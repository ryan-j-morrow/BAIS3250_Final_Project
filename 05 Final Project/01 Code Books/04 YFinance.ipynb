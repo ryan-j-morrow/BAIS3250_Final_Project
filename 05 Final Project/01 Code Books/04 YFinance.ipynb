{
 "cells": [
  {
   "cell_type": "markdown",
   "metadata": {},
   "source": [
    "# Scraping Capitol Trades\n"
   ]
  },
  {
   "cell_type": "markdown",
   "metadata": {},
   "source": [
    "## Import Modules"
   ]
  },
  {
   "cell_type": "code",
   "execution_count": 1,
   "metadata": {},
   "outputs": [],
   "source": [
    "import pandas as pd  # For handling data in DataFrame\n",
    "import os\n",
    "import yfinance as yf\n",
    "import numpy as np\n",
    "import time"
   ]
  },
  {
   "cell_type": "markdown",
   "metadata": {},
   "source": [
    "### Set Up Paths"
   ]
  },
  {
   "cell_type": "code",
   "execution_count": 2,
   "metadata": {},
   "outputs": [
    {
     "name": "stdout",
     "output_type": "stream",
     "text": [
      "c:\\Users\\rjrul\\OneDrive - University of Iowa\\00 Current Semester\\01 BAIS 3250 - Data Wrangling\\05 Final Project\\02 Data Files\\\n"
     ]
    }
   ],
   "source": [
    "home_path = os.getcwd()\n",
    "home_path = os.path.dirname(home_path)\n",
    "home_path += \"\\\\\"\n",
    "\n",
    "data_path = home_path + \"02 Data Files\\\\\"\n",
    "\n",
    "print(data_path)"
   ]
  },
  {
   "cell_type": "markdown",
   "metadata": {},
   "source": [
    "## Import Data"
   ]
  },
  {
   "cell_type": "code",
   "execution_count": 3,
   "metadata": {},
   "outputs": [
    {
     "data": {
      "text/html": [
       "<div>\n",
       "<style scoped>\n",
       "    .dataframe tbody tr th:only-of-type {\n",
       "        vertical-align: middle;\n",
       "    }\n",
       "\n",
       "    .dataframe tbody tr th {\n",
       "        vertical-align: top;\n",
       "    }\n",
       "\n",
       "    .dataframe thead th {\n",
       "        text-align: right;\n",
       "    }\n",
       "</style>\n",
       "<table border=\"1\" class=\"dataframe\">\n",
       "  <thead>\n",
       "    <tr style=\"text-align: right;\">\n",
       "      <th></th>\n",
       "      <th>Name</th>\n",
       "      <th>Ticker</th>\n",
       "      <th>Party</th>\n",
       "      <th>Chamber</th>\n",
       "      <th>State</th>\n",
       "      <th>Buy Date</th>\n",
       "      <th>Sell Date</th>\n",
       "    </tr>\n",
       "  </thead>\n",
       "  <tbody>\n",
       "    <tr>\n",
       "      <th>0</th>\n",
       "      <td>Bill Keating</td>\n",
       "      <td>ABNB</td>\n",
       "      <td>Democrat</td>\n",
       "      <td>House</td>\n",
       "      <td>MA</td>\n",
       "      <td>2023-1-17</td>\n",
       "      <td>2024-5-16</td>\n",
       "    </tr>\n",
       "    <tr>\n",
       "      <th>1</th>\n",
       "      <td>Bill Keating</td>\n",
       "      <td>BA</td>\n",
       "      <td>Democrat</td>\n",
       "      <td>House</td>\n",
       "      <td>MA</td>\n",
       "      <td>2023-9-14</td>\n",
       "      <td>2024-2-7</td>\n",
       "    </tr>\n",
       "    <tr>\n",
       "      <th>2</th>\n",
       "      <td>Bill Keating</td>\n",
       "      <td>BAC</td>\n",
       "      <td>Democrat</td>\n",
       "      <td>House</td>\n",
       "      <td>MA</td>\n",
       "      <td>2024-1-17</td>\n",
       "      <td>2024-9-10</td>\n",
       "    </tr>\n",
       "    <tr>\n",
       "      <th>3</th>\n",
       "      <td>Bill Keating</td>\n",
       "      <td>GM</td>\n",
       "      <td>Democrat</td>\n",
       "      <td>House</td>\n",
       "      <td>MA</td>\n",
       "      <td>2023-6-26</td>\n",
       "      <td>2024-9-10</td>\n",
       "    </tr>\n",
       "    <tr>\n",
       "      <th>4</th>\n",
       "      <td>Bill Keating</td>\n",
       "      <td>GOOGL</td>\n",
       "      <td>Democrat</td>\n",
       "      <td>House</td>\n",
       "      <td>MA</td>\n",
       "      <td>2023-2-12</td>\n",
       "      <td>2024-5-16</td>\n",
       "    </tr>\n",
       "    <tr>\n",
       "      <th>...</th>\n",
       "      <td>...</td>\n",
       "      <td>...</td>\n",
       "      <td>...</td>\n",
       "      <td>...</td>\n",
       "      <td>...</td>\n",
       "      <td>...</td>\n",
       "      <td>...</td>\n",
       "    </tr>\n",
       "    <tr>\n",
       "      <th>1351</th>\n",
       "      <td>Virginia Foxx</td>\n",
       "      <td>FLNG</td>\n",
       "      <td>Republican</td>\n",
       "      <td>House</td>\n",
       "      <td>NC</td>\n",
       "      <td>2023-1-3</td>\n",
       "      <td>2024-12-5</td>\n",
       "    </tr>\n",
       "    <tr>\n",
       "      <th>1352</th>\n",
       "      <td>Virginia Foxx</td>\n",
       "      <td>MO</td>\n",
       "      <td>Republican</td>\n",
       "      <td>House</td>\n",
       "      <td>NC</td>\n",
       "      <td>2023-1-16</td>\n",
       "      <td>2024-1-9</td>\n",
       "    </tr>\n",
       "    <tr>\n",
       "      <th>1353</th>\n",
       "      <td>Virginia Foxx</td>\n",
       "      <td>PAA</td>\n",
       "      <td>Republican</td>\n",
       "      <td>House</td>\n",
       "      <td>NC</td>\n",
       "      <td>2023-3-23</td>\n",
       "      <td>2023-10-2</td>\n",
       "    </tr>\n",
       "    <tr>\n",
       "      <th>1354</th>\n",
       "      <td>Virginia Foxx</td>\n",
       "      <td>T</td>\n",
       "      <td>Republican</td>\n",
       "      <td>House</td>\n",
       "      <td>NC</td>\n",
       "      <td>2023-1-31</td>\n",
       "      <td>2024-12-5</td>\n",
       "    </tr>\n",
       "    <tr>\n",
       "      <th>1355</th>\n",
       "      <td>Virginia Foxx</td>\n",
       "      <td>TAK</td>\n",
       "      <td>Republican</td>\n",
       "      <td>House</td>\n",
       "      <td>NC</td>\n",
       "      <td>2023-2-15</td>\n",
       "      <td>2023-8-28</td>\n",
       "    </tr>\n",
       "  </tbody>\n",
       "</table>\n",
       "<p>1356 rows × 7 columns</p>\n",
       "</div>"
      ],
      "text/plain": [
       "               Name Ticker       Party Chamber State   Buy Date  Sell Date\n",
       "0      Bill Keating   ABNB    Democrat   House    MA  2023-1-17  2024-5-16\n",
       "1      Bill Keating     BA    Democrat   House    MA  2023-9-14   2024-2-7\n",
       "2      Bill Keating    BAC    Democrat   House    MA  2024-1-17  2024-9-10\n",
       "3      Bill Keating     GM    Democrat   House    MA  2023-6-26  2024-9-10\n",
       "4      Bill Keating  GOOGL    Democrat   House    MA  2023-2-12  2024-5-16\n",
       "...             ...    ...         ...     ...   ...        ...        ...\n",
       "1351  Virginia Foxx   FLNG  Republican   House    NC   2023-1-3  2024-12-5\n",
       "1352  Virginia Foxx     MO  Republican   House    NC  2023-1-16   2024-1-9\n",
       "1353  Virginia Foxx    PAA  Republican   House    NC  2023-3-23  2023-10-2\n",
       "1354  Virginia Foxx      T  Republican   House    NC  2023-1-31  2024-12-5\n",
       "1355  Virginia Foxx    TAK  Republican   House    NC  2023-2-15  2023-8-28\n",
       "\n",
       "[1356 rows x 7 columns]"
      ]
     },
     "execution_count": 3,
     "metadata": {},
     "output_type": "execute_result"
    }
   ],
   "source": [
    "df = pd.read_csv(data_path+\"03 Data Integration\\\\\"+\"transactions_matched.csv\")\n",
    "\n",
    "df"
   ]
  },
  {
   "cell_type": "markdown",
   "metadata": {},
   "source": [
    "## Define YFinance Function"
   ]
  },
  {
   "cell_type": "code",
   "execution_count": 4,
   "metadata": {},
   "outputs": [],
   "source": [
    "def get_stock_price(ticker, date, value=\"Close\"):\n",
    "    if value not in [\"Open\", \"Close\"]:\n",
    "        raise KeyError(\"Invalid time parameter. Use 'Open' or 'Close'.\")\n",
    "    \n",
    "    date = pd.to_datetime(date, format='%Y-%m-%d')\n",
    "\n",
    "    # Adjust for weekends (if date falls on a weekend, move to previous Friday)\n",
    "    while date.weekday() >= 5:  # 5 = Saturday, 6 = Sunday\n",
    "        date -= pd.Timedelta(days=(date.weekday() - 4))\n",
    "\n",
    "    # Determine the next business day for 'end' date\n",
    "    end = date + pd.Timedelta(days=1)\n",
    "\n",
    "    if date.weekday() == 4:  # If it's Friday, skip to Monday\n",
    "        end += pd.Timedelta(days=2)\n",
    "\n",
    "    stock = yf.Ticker(ticker)\n",
    "\n",
    "    # Retry logic: Keep looking backward if no data is found (holidays)\n",
    "    attempts = 5 \n",
    "    while attempts > 0:\n",
    "        historical_data = stock.history(start=date.strftime('%Y-%m-%d'), end=end.strftime('%Y-%m-%d'))\n",
    "        time.sleep(2)\n",
    "        \n",
    "        if not historical_data.empty:\n",
    "            if attempts < 5:\n",
    "                print(\"--- The Retry Was Sucessfull---\")\n",
    "            return historical_data[value].iloc[0]  # Return valid stock price\n",
    "        \n",
    "        # If no data, move back one day and try again\n",
    "        print(\"retrying...\")\n",
    "        date -= pd.Timedelta(days=1)\n",
    "        while date.weekday() >= 5:  # Skip weekends again\n",
    "            date -= pd.Timedelta(days=(date.weekday() - 4))\n",
    "        \n",
    "        attempts -= 1  \n",
    "    return np.nan  "
   ]
  },
  {
   "cell_type": "markdown",
   "metadata": {},
   "source": [
    "## Get Ticker Prices\n",
    "\n",
    "Open of Start Date and Close of End Date to allow for Same Day Gains"
   ]
  },
  {
   "cell_type": "markdown",
   "metadata": {},
   "source": [
    "#### Get Opening Price on the Day of Purchase"
   ]
  },
  {
   "cell_type": "code",
   "execution_count": 5,
   "metadata": {},
   "outputs": [
    {
     "name": "stderr",
     "output_type": "stream",
     "text": [
      "$CHD: possibly delisted; no price data found  (1d 2023-02-20 -> 2023-02-21)\n"
     ]
    },
    {
     "name": "stdout",
     "output_type": "stream",
     "text": [
      "retrying...\n",
      "--- The Retry Was Sucessfull---\n"
     ]
    },
    {
     "name": "stderr",
     "output_type": "stream",
     "text": [
      "$AMT: possibly delisted; no price data found  (1d 2023-04-07 -> 2023-04-10)\n"
     ]
    },
    {
     "name": "stdout",
     "output_type": "stream",
     "text": [
      "retrying...\n",
      "--- The Retry Was Sucessfull---\n"
     ]
    },
    {
     "name": "stderr",
     "output_type": "stream",
     "text": [
      "$ATUS: possibly delisted; no price data found  (1d 2023-04-07 -> 2023-04-10)\n"
     ]
    },
    {
     "name": "stdout",
     "output_type": "stream",
     "text": [
      "retrying...\n",
      "--- The Retry Was Sucessfull---\n"
     ]
    },
    {
     "name": "stderr",
     "output_type": "stream",
     "text": [
      "$BMY: possibly delisted; no price data found  (1d 2023-04-07 -> 2023-04-10)\n"
     ]
    },
    {
     "name": "stdout",
     "output_type": "stream",
     "text": [
      "retrying...\n",
      "--- The Retry Was Sucessfull---\n"
     ]
    },
    {
     "name": "stderr",
     "output_type": "stream",
     "text": [
      "$CADE: possibly delisted; no price data found  (1d 2023-04-07 -> 2023-04-10)\n"
     ]
    },
    {
     "name": "stdout",
     "output_type": "stream",
     "text": [
      "retrying...\n",
      "--- The Retry Was Sucessfull---\n"
     ]
    },
    {
     "name": "stderr",
     "output_type": "stream",
     "text": [
      "$CB: possibly delisted; no price data found  (1d 2023-04-07 -> 2023-04-10)\n"
     ]
    },
    {
     "name": "stdout",
     "output_type": "stream",
     "text": [
      "retrying...\n"
     ]
    },
    {
     "name": "stderr",
     "output_type": "stream",
     "text": [
      "$CCI: possibly delisted; no price data found  (1d 2023-04-07 -> 2023-04-10)\n"
     ]
    },
    {
     "name": "stdout",
     "output_type": "stream",
     "text": [
      "--- The Retry Was Sucessfull---\n",
      "retrying...\n"
     ]
    },
    {
     "name": "stderr",
     "output_type": "stream",
     "text": [
      "$CFG: possibly delisted; no price data found  (1d 2023-04-07 -> 2023-04-10)\n"
     ]
    },
    {
     "name": "stdout",
     "output_type": "stream",
     "text": [
      "--- The Retry Was Sucessfull---\n",
      "retrying...\n"
     ]
    },
    {
     "name": "stderr",
     "output_type": "stream",
     "text": [
      "$CHPT: possibly delisted; no price data found  (1d 2023-04-07 -> 2023-04-10)\n"
     ]
    },
    {
     "name": "stdout",
     "output_type": "stream",
     "text": [
      "--- The Retry Was Sucessfull---\n",
      "retrying...\n",
      "--- The Retry Was Sucessfull---\n"
     ]
    },
    {
     "name": "stderr",
     "output_type": "stream",
     "text": [
      "$CLF: possibly delisted; no price data found  (1d 2023-04-07 -> 2023-04-10)\n"
     ]
    },
    {
     "name": "stdout",
     "output_type": "stream",
     "text": [
      "retrying...\n",
      "--- The Retry Was Sucessfull---\n"
     ]
    },
    {
     "name": "stderr",
     "output_type": "stream",
     "text": [
      "$EPAM: possibly delisted; no price data found  (1d 2023-04-07 -> 2023-04-10)\n"
     ]
    },
    {
     "name": "stdout",
     "output_type": "stream",
     "text": [
      "retrying...\n",
      "--- The Retry Was Sucessfull---\n"
     ]
    },
    {
     "name": "stderr",
     "output_type": "stream",
     "text": [
      "$EXC: possibly delisted; no price data found  (1d 2023-03-03 -> 2023-03-06)\n"
     ]
    },
    {
     "name": "stdout",
     "output_type": "stream",
     "text": [
      "retrying...\n"
     ]
    },
    {
     "name": "stderr",
     "output_type": "stream",
     "text": [
      "$EXC: possibly delisted; no price data found  (1d 2023-03-02 -> 2023-03-06)\n"
     ]
    },
    {
     "name": "stdout",
     "output_type": "stream",
     "text": [
      "retrying...\n",
      "--- The Retry Was Sucessfull---\n"
     ]
    },
    {
     "name": "stderr",
     "output_type": "stream",
     "text": [
      "$FIS: possibly delisted; no price data found  (1d 2023-04-07 -> 2023-04-10)\n"
     ]
    },
    {
     "name": "stdout",
     "output_type": "stream",
     "text": [
      "retrying...\n",
      "--- The Retry Was Sucessfull---\n"
     ]
    },
    {
     "name": "stderr",
     "output_type": "stream",
     "text": [
      "$IFF: possibly delisted; no price data found  (1d 2023-04-07 -> 2023-04-10)\n"
     ]
    },
    {
     "name": "stdout",
     "output_type": "stream",
     "text": [
      "retrying...\n",
      "--- The Retry Was Sucessfull---\n"
     ]
    },
    {
     "name": "stderr",
     "output_type": "stream",
     "text": [
      "$KHC: possibly delisted; no price data found  (1d 2023-04-07 -> 2023-04-10)\n"
     ]
    },
    {
     "name": "stdout",
     "output_type": "stream",
     "text": [
      "retrying...\n",
      "--- The Retry Was Sucessfull---\n"
     ]
    },
    {
     "name": "stderr",
     "output_type": "stream",
     "text": [
      "$LUMN: possibly delisted; no price data found  (1d 2023-04-07 -> 2023-04-10)\n"
     ]
    },
    {
     "name": "stdout",
     "output_type": "stream",
     "text": [
      "retrying...\n",
      "--- The Retry Was Sucessfull---\n"
     ]
    },
    {
     "name": "stderr",
     "output_type": "stream",
     "text": [
      "$MKTX: possibly delisted; no price data found  (1d 2023-04-07 -> 2023-04-10)\n"
     ]
    },
    {
     "name": "stdout",
     "output_type": "stream",
     "text": [
      "retrying...\n",
      "--- The Retry Was Sucessfull---\n"
     ]
    },
    {
     "name": "stderr",
     "output_type": "stream",
     "text": [
      "$MOH: possibly delisted; no price data found  (1d 2023-04-07 -> 2023-04-10)\n"
     ]
    },
    {
     "name": "stdout",
     "output_type": "stream",
     "text": [
      "retrying...\n",
      "--- The Retry Was Sucessfull---\n"
     ]
    },
    {
     "name": "stderr",
     "output_type": "stream",
     "text": [
      "$MRNA: possibly delisted; no price data found  (1d 2023-04-07 -> 2023-04-10)\n"
     ]
    },
    {
     "name": "stdout",
     "output_type": "stream",
     "text": [
      "retrying...\n",
      "--- The Retry Was Sucessfull---\n"
     ]
    },
    {
     "name": "stderr",
     "output_type": "stream",
     "text": [
      "$NFG: possibly delisted; no price data found  (1d 2023-04-07 -> 2023-04-10)\n"
     ]
    },
    {
     "name": "stdout",
     "output_type": "stream",
     "text": [
      "retrying...\n",
      "--- The Retry Was Sucessfull---\n"
     ]
    },
    {
     "name": "stderr",
     "output_type": "stream",
     "text": [
      "$OGS: possibly delisted; no price data found  (1d 2023-04-07 -> 2023-04-10)\n"
     ]
    },
    {
     "name": "stdout",
     "output_type": "stream",
     "text": [
      "retrying...\n"
     ]
    },
    {
     "name": "stderr",
     "output_type": "stream",
     "text": [
      "$OLPX: possibly delisted; no price data found  (1d 2023-04-07 -> 2023-04-10)\n"
     ]
    },
    {
     "name": "stdout",
     "output_type": "stream",
     "text": [
      "--- The Retry Was Sucessfull---\n",
      "retrying...\n",
      "--- The Retry Was Sucessfull---\n"
     ]
    },
    {
     "name": "stderr",
     "output_type": "stream",
     "text": [
      "$PODD: possibly delisted; no price data found  (1d 2023-04-07 -> 2023-04-10)\n"
     ]
    },
    {
     "name": "stdout",
     "output_type": "stream",
     "text": [
      "retrying...\n"
     ]
    },
    {
     "name": "stderr",
     "output_type": "stream",
     "text": [
      "$QS: possibly delisted; no price data found  (1d 2023-04-07 -> 2023-04-10)\n"
     ]
    },
    {
     "name": "stdout",
     "output_type": "stream",
     "text": [
      "--- The Retry Was Sucessfull---\n",
      "retrying...\n",
      "--- The Retry Was Sucessfull---\n"
     ]
    },
    {
     "name": "stderr",
     "output_type": "stream",
     "text": [
      "$TFX: possibly delisted; no price data found  (1d 2023-04-07 -> 2023-04-10)\n"
     ]
    },
    {
     "name": "stdout",
     "output_type": "stream",
     "text": [
      "retrying...\n",
      "--- The Retry Was Sucessfull---\n"
     ]
    },
    {
     "name": "stderr",
     "output_type": "stream",
     "text": [
      "$YOU: possibly delisted; no price data found  (1d 2023-01-16 -> 2023-01-17)\n"
     ]
    },
    {
     "name": "stdout",
     "output_type": "stream",
     "text": [
      "retrying...\n",
      "--- The Retry Was Sucessfull---\n"
     ]
    },
    {
     "name": "stderr",
     "output_type": "stream",
     "text": [
      "$MSFT: possibly delisted; no price data found  (1d 2023-05-29 -> 2023-05-30)\n"
     ]
    },
    {
     "name": "stdout",
     "output_type": "stream",
     "text": [
      "retrying...\n",
      "--- The Retry Was Sucessfull---\n"
     ]
    },
    {
     "name": "stderr",
     "output_type": "stream",
     "text": [
      "$DG: possibly delisted; no price data found  (1d 2023-02-20 -> 2023-02-21)\n"
     ]
    },
    {
     "name": "stdout",
     "output_type": "stream",
     "text": [
      "retrying...\n"
     ]
    },
    {
     "name": "stderr",
     "output_type": "stream",
     "text": [
      "$HRL: possibly delisted; no price data found  (1d 2023-02-20 -> 2023-02-21)\n"
     ]
    },
    {
     "name": "stdout",
     "output_type": "stream",
     "text": [
      "--- The Retry Was Sucessfull---\n",
      "retrying...\n",
      "--- The Retry Was Sucessfull---\n"
     ]
    },
    {
     "name": "stderr",
     "output_type": "stream",
     "text": [
      "$PNC: possibly delisted; no price data found  (1d 2023-02-20 -> 2023-02-21)\n"
     ]
    },
    {
     "name": "stdout",
     "output_type": "stream",
     "text": [
      "retrying...\n",
      "--- The Retry Was Sucessfull---\n"
     ]
    },
    {
     "name": "stderr",
     "output_type": "stream",
     "text": [
      "$WM: possibly delisted; no price data found  (1d 2024-07-04 -> 2024-07-05)\n"
     ]
    },
    {
     "name": "stdout",
     "output_type": "stream",
     "text": [
      "retrying...\n",
      "--- The Retry Was Sucessfull---\n"
     ]
    },
    {
     "name": "stderr",
     "output_type": "stream",
     "text": [
      "$CAH: possibly delisted; no price data found  (1d 2024-05-01 -> 2024-05-02)\n"
     ]
    },
    {
     "name": "stdout",
     "output_type": "stream",
     "text": [
      "retrying...\n"
     ]
    },
    {
     "name": "stderr",
     "output_type": "stream",
     "text": [
      "$CAH: possibly delisted; no price data found  (1d 2024-04-30 -> 2024-05-02)\n"
     ]
    },
    {
     "name": "stdout",
     "output_type": "stream",
     "text": [
      "retrying...\n",
      "--- The Retry Was Sucessfull---\n"
     ]
    },
    {
     "name": "stderr",
     "output_type": "stream",
     "text": [
      "$CTVA: possibly delisted; no price data found  (1d 2023-11-09 -> 2023-11-10)\n"
     ]
    },
    {
     "name": "stdout",
     "output_type": "stream",
     "text": [
      "retrying...\n",
      "--- The Retry Was Sucessfull---\n"
     ]
    },
    {
     "name": "stderr",
     "output_type": "stream",
     "text": [
      "$VOYA: possibly delisted; no price data found  (1d 2023-11-09 -> 2023-11-10)\n"
     ]
    },
    {
     "name": "stdout",
     "output_type": "stream",
     "text": [
      "retrying...\n"
     ]
    },
    {
     "name": "stderr",
     "output_type": "stream",
     "text": [
      "$VOYA: possibly delisted; no price data found  (1d 2023-11-08 -> 2023-11-10)\n"
     ]
    },
    {
     "name": "stdout",
     "output_type": "stream",
     "text": [
      "retrying...\n",
      "--- The Retry Was Sucessfull---\n"
     ]
    },
    {
     "name": "stderr",
     "output_type": "stream",
     "text": [
      "$CHX: possibly delisted; no price data found  (1d 2023-09-18 -> 2023-09-19)\n",
      "$CHX: possibly delisted; no price data found  (1d 2023-09-15 -> 2023-09-19)\n"
     ]
    },
    {
     "name": "stdout",
     "output_type": "stream",
     "text": [
      "retrying...\n",
      "retrying...\n",
      "--- The Retry Was Sucessfull---\n"
     ]
    },
    {
     "name": "stderr",
     "output_type": "stream",
     "text": [
      "$DE: possibly delisted; no price data found  (1d 2023-01-16 -> 2023-01-17)\n"
     ]
    },
    {
     "name": "stdout",
     "output_type": "stream",
     "text": [
      "retrying...\n"
     ]
    },
    {
     "name": "stderr",
     "output_type": "stream",
     "text": [
      "$DE: possibly delisted; no price data found  (1d 2023-01-13 -> 2023-01-17)\n"
     ]
    },
    {
     "name": "stdout",
     "output_type": "stream",
     "text": [
      "retrying...\n",
      "--- The Retry Was Sucessfull---\n"
     ]
    },
    {
     "name": "stderr",
     "output_type": "stream",
     "text": [
      "$EL: possibly delisted; no price data found  (1d 2023-05-01 -> 2023-05-02)\n"
     ]
    },
    {
     "name": "stdout",
     "output_type": "stream",
     "text": [
      "retrying...\n",
      "--- The Retry Was Sucessfull---\n"
     ]
    },
    {
     "name": "stderr",
     "output_type": "stream",
     "text": [
      "$ARQT: possibly delisted; no price data found  (1d 2023-04-14 -> 2023-04-17)\n"
     ]
    },
    {
     "name": "stdout",
     "output_type": "stream",
     "text": [
      "retrying...\n"
     ]
    },
    {
     "name": "stderr",
     "output_type": "stream",
     "text": [
      "$ARQT: possibly delisted; no price data found  (1d 2023-04-13 -> 2023-04-17)\n"
     ]
    },
    {
     "name": "stdout",
     "output_type": "stream",
     "text": [
      "retrying...\n",
      "--- The Retry Was Sucessfull---\n"
     ]
    },
    {
     "name": "stderr",
     "output_type": "stream",
     "text": [
      "$MELI: possibly delisted; no price data found  (1d 2023-01-16 -> 2023-01-17)\n"
     ]
    },
    {
     "name": "stdout",
     "output_type": "stream",
     "text": [
      "retrying...\n",
      "--- The Retry Was Sucessfull---\n"
     ]
    },
    {
     "name": "stderr",
     "output_type": "stream",
     "text": [
      "$NVDA: possibly delisted; no price data found  (1d 2023-02-20 -> 2023-02-21)\n"
     ]
    },
    {
     "name": "stdout",
     "output_type": "stream",
     "text": [
      "retrying...\n",
      "--- The Retry Was Sucessfull---\n"
     ]
    },
    {
     "name": "stderr",
     "output_type": "stream",
     "text": [
      "$SHOP: possibly delisted; no price data found  (1d 2023-01-16 -> 2023-01-17)\n"
     ]
    },
    {
     "name": "stdout",
     "output_type": "stream",
     "text": [
      "retrying...\n",
      "--- The Retry Was Sucessfull---\n"
     ]
    },
    {
     "name": "stderr",
     "output_type": "stream",
     "text": [
      "$TTD: possibly delisted; no price data found  (1d 2023-02-20 -> 2023-02-21)\n"
     ]
    },
    {
     "name": "stdout",
     "output_type": "stream",
     "text": [
      "retrying...\n",
      "--- The Retry Was Sucessfull---\n"
     ]
    },
    {
     "name": "stderr",
     "output_type": "stream",
     "text": [
      "$AGCO: possibly delisted; no price data found  (1d 2024-06-19 -> 2024-06-20)\n"
     ]
    },
    {
     "name": "stdout",
     "output_type": "stream",
     "text": [
      "retrying...\n",
      "--- The Retry Was Sucessfull---\n"
     ]
    },
    {
     "name": "stderr",
     "output_type": "stream",
     "text": [
      "$BSX: possibly delisted; no price data found  (1d 2023-05-29 -> 2023-05-30)\n"
     ]
    },
    {
     "name": "stdout",
     "output_type": "stream",
     "text": [
      "retrying...\n",
      "--- The Retry Was Sucessfull---\n"
     ]
    },
    {
     "name": "stderr",
     "output_type": "stream",
     "text": [
      "$ILMN: possibly delisted; no price data found  (1d 2024-01-01 -> 2024-01-02)\n"
     ]
    },
    {
     "name": "stdout",
     "output_type": "stream",
     "text": [
      "retrying...\n",
      "--- The Retry Was Sucessfull---\n"
     ]
    },
    {
     "name": "stderr",
     "output_type": "stream",
     "text": [
      "$XOM: possibly delisted; no price data found  (1d 2024-01-01 -> 2024-01-02)\n"
     ]
    },
    {
     "name": "stdout",
     "output_type": "stream",
     "text": [
      "retrying...\n",
      "--- The Retry Was Sucessfull---\n"
     ]
    },
    {
     "name": "stderr",
     "output_type": "stream",
     "text": [
      "$ADSK: possibly delisted; no price data found  (1d 2023-01-16 -> 2023-01-17)\n"
     ]
    },
    {
     "name": "stdout",
     "output_type": "stream",
     "text": [
      "retrying...\n",
      "--- The Retry Was Sucessfull---\n"
     ]
    },
    {
     "name": "stderr",
     "output_type": "stream",
     "text": [
      "$NVDA: possibly delisted; no price data found  (1d 2023-05-29 -> 2023-05-30)\n"
     ]
    },
    {
     "name": "stdout",
     "output_type": "stream",
     "text": [
      "retrying...\n",
      "--- The Retry Was Sucessfull---\n"
     ]
    },
    {
     "name": "stderr",
     "output_type": "stream",
     "text": [
      "$AEE: possibly delisted; no price data found  (1d 2024-06-19 -> 2024-06-20)\n"
     ]
    },
    {
     "name": "stdout",
     "output_type": "stream",
     "text": [
      "retrying...\n",
      "--- The Retry Was Sucessfull---\n"
     ]
    },
    {
     "name": "stderr",
     "output_type": "stream",
     "text": [
      "$BALL: possibly delisted; no price data found  (1d 2024-05-27 -> 2024-05-28)\n"
     ]
    },
    {
     "name": "stdout",
     "output_type": "stream",
     "text": [
      "retrying...\n",
      "--- The Retry Was Sucessfull---\n"
     ]
    },
    {
     "name": "stderr",
     "output_type": "stream",
     "text": [
      "$CMI: possibly delisted; no price data found  (1d 2024-06-19 -> 2024-06-20)\n"
     ]
    },
    {
     "name": "stdout",
     "output_type": "stream",
     "text": [
      "retrying...\n",
      "--- The Retry Was Sucessfull---\n"
     ]
    },
    {
     "name": "stderr",
     "output_type": "stream",
     "text": [
      "$DELL: possibly delisted; no price data found  (1d 2024-06-19 -> 2024-06-20)\n"
     ]
    },
    {
     "name": "stdout",
     "output_type": "stream",
     "text": [
      "retrying...\n",
      "--- The Retry Was Sucessfull---\n"
     ]
    },
    {
     "name": "stderr",
     "output_type": "stream",
     "text": [
      "$FE: possibly delisted; no price data found  (1d 2024-06-19 -> 2024-06-20)\n"
     ]
    },
    {
     "name": "stdout",
     "output_type": "stream",
     "text": [
      "retrying...\n",
      "--- The Retry Was Sucessfull---\n"
     ]
    },
    {
     "name": "stderr",
     "output_type": "stream",
     "text": [
      "$GE: possibly delisted; no price data found  (1d 2024-03-29 -> 2024-04-01)\n"
     ]
    },
    {
     "name": "stdout",
     "output_type": "stream",
     "text": [
      "retrying...\n",
      "--- The Retry Was Sucessfull---\n"
     ]
    },
    {
     "name": "stderr",
     "output_type": "stream",
     "text": [
      "$GTLB: possibly delisted; no price data found  (1d 2024-06-19 -> 2024-06-20)\n"
     ]
    },
    {
     "name": "stdout",
     "output_type": "stream",
     "text": [
      "retrying...\n",
      "--- The Retry Was Sucessfull---\n"
     ]
    },
    {
     "name": "stderr",
     "output_type": "stream",
     "text": [
      "$LII: possibly delisted; no price data found  (1d 2024-06-19 -> 2024-06-20)\n"
     ]
    },
    {
     "name": "stdout",
     "output_type": "stream",
     "text": [
      "retrying...\n",
      "--- The Retry Was Sucessfull---\n"
     ]
    },
    {
     "name": "stderr",
     "output_type": "stream",
     "text": [
      "$MUFG: possibly delisted; no price data found  (1d 2023-07-04 -> 2023-07-05)\n"
     ]
    },
    {
     "name": "stdout",
     "output_type": "stream",
     "text": [
      "retrying...\n",
      "--- The Retry Was Sucessfull---\n"
     ]
    },
    {
     "name": "stderr",
     "output_type": "stream",
     "text": [
      "$OLPX: possibly delisted; no price data found  (1d 2023-04-07 -> 2023-04-10)\n"
     ]
    },
    {
     "name": "stdout",
     "output_type": "stream",
     "text": [
      "retrying...\n",
      "--- The Retry Was Sucessfull---\n"
     ]
    },
    {
     "name": "stderr",
     "output_type": "stream",
     "text": [
      "$ST: possibly delisted; no price data found  (1d 2023-01-02 -> 2023-01-03)\n"
     ]
    },
    {
     "name": "stdout",
     "output_type": "stream",
     "text": [
      "retrying...\n",
      "--- The Retry Was Sucessfull---\n"
     ]
    },
    {
     "name": "stderr",
     "output_type": "stream",
     "text": [
      "$STLD: possibly delisted; no price data found  (1d 2024-06-19 -> 2024-06-20)\n"
     ]
    },
    {
     "name": "stdout",
     "output_type": "stream",
     "text": [
      "retrying...\n",
      "--- The Retry Was Sucessfull---\n"
     ]
    },
    {
     "name": "stderr",
     "output_type": "stream",
     "text": [
      "$JPM: possibly delisted; no price data found  (1d 2023-05-29 -> 2023-05-30)\n"
     ]
    },
    {
     "name": "stdout",
     "output_type": "stream",
     "text": [
      "retrying...\n",
      "--- The Retry Was Sucessfull---\n"
     ]
    },
    {
     "name": "stderr",
     "output_type": "stream",
     "text": [
      "$AGX: possibly delisted; no price data found  (1d 2023-02-20 -> 2023-02-21)\n"
     ]
    },
    {
     "name": "stdout",
     "output_type": "stream",
     "text": [
      "retrying...\n",
      "--- The Retry Was Sucessfull---\n"
     ]
    },
    {
     "name": "stderr",
     "output_type": "stream",
     "text": [
      "$MOS: possibly delisted; no price data found  (1d 2023-02-20 -> 2023-02-21)\n"
     ]
    },
    {
     "name": "stdout",
     "output_type": "stream",
     "text": [
      "retrying...\n",
      "--- The Retry Was Sucessfull---\n"
     ]
    },
    {
     "name": "stderr",
     "output_type": "stream",
     "text": [
      "$PARA: possibly delisted; no price data found  (1d 2023-12-25 -> 2023-12-26)\n"
     ]
    },
    {
     "name": "stdout",
     "output_type": "stream",
     "text": [
      "retrying...\n",
      "--- The Retry Was Sucessfull---\n"
     ]
    },
    {
     "name": "stderr",
     "output_type": "stream",
     "text": [
      "$ET: possibly delisted; no price data found  (1d 2024-01-15 -> 2024-01-16)\n"
     ]
    },
    {
     "name": "stdout",
     "output_type": "stream",
     "text": [
      "retrying...\n",
      "--- The Retry Was Sucessfull---\n"
     ]
    },
    {
     "name": "stderr",
     "output_type": "stream",
     "text": [
      "$MO: possibly delisted; no price data found  (1d 2023-01-16 -> 2023-01-17)\n"
     ]
    },
    {
     "name": "stdout",
     "output_type": "stream",
     "text": [
      "retrying...\n",
      "--- The Retry Was Sucessfull---\n"
     ]
    },
    {
     "data": {
      "text/html": [
       "<div>\n",
       "<style scoped>\n",
       "    .dataframe tbody tr th:only-of-type {\n",
       "        vertical-align: middle;\n",
       "    }\n",
       "\n",
       "    .dataframe tbody tr th {\n",
       "        vertical-align: top;\n",
       "    }\n",
       "\n",
       "    .dataframe thead th {\n",
       "        text-align: right;\n",
       "    }\n",
       "</style>\n",
       "<table border=\"1\" class=\"dataframe\">\n",
       "  <thead>\n",
       "    <tr style=\"text-align: right;\">\n",
       "      <th></th>\n",
       "      <th>Name</th>\n",
       "      <th>Ticker</th>\n",
       "      <th>Party</th>\n",
       "      <th>Chamber</th>\n",
       "      <th>State</th>\n",
       "      <th>Buy Date</th>\n",
       "      <th>Sell Date</th>\n",
       "      <th>Buy Price</th>\n",
       "    </tr>\n",
       "  </thead>\n",
       "  <tbody>\n",
       "    <tr>\n",
       "      <th>0</th>\n",
       "      <td>Bill Keating</td>\n",
       "      <td>ABNB</td>\n",
       "      <td>Democrat</td>\n",
       "      <td>House</td>\n",
       "      <td>MA</td>\n",
       "      <td>2023-1-17</td>\n",
       "      <td>2024-5-16</td>\n",
       "      <td>99.915001</td>\n",
       "    </tr>\n",
       "    <tr>\n",
       "      <th>1</th>\n",
       "      <td>Bill Keating</td>\n",
       "      <td>BA</td>\n",
       "      <td>Democrat</td>\n",
       "      <td>House</td>\n",
       "      <td>MA</td>\n",
       "      <td>2023-9-14</td>\n",
       "      <td>2024-2-7</td>\n",
       "      <td>209.139999</td>\n",
       "    </tr>\n",
       "    <tr>\n",
       "      <th>2</th>\n",
       "      <td>Bill Keating</td>\n",
       "      <td>BAC</td>\n",
       "      <td>Democrat</td>\n",
       "      <td>House</td>\n",
       "      <td>MA</td>\n",
       "      <td>2024-1-17</td>\n",
       "      <td>2024-9-10</td>\n",
       "      <td>30.738856</td>\n",
       "    </tr>\n",
       "    <tr>\n",
       "      <th>3</th>\n",
       "      <td>Bill Keating</td>\n",
       "      <td>GM</td>\n",
       "      <td>Democrat</td>\n",
       "      <td>House</td>\n",
       "      <td>MA</td>\n",
       "      <td>2023-6-26</td>\n",
       "      <td>2024-9-10</td>\n",
       "      <td>35.371884</td>\n",
       "    </tr>\n",
       "    <tr>\n",
       "      <th>4</th>\n",
       "      <td>Bill Keating</td>\n",
       "      <td>GOOGL</td>\n",
       "      <td>Democrat</td>\n",
       "      <td>House</td>\n",
       "      <td>MA</td>\n",
       "      <td>2023-2-12</td>\n",
       "      <td>2024-5-16</td>\n",
       "      <td>94.995828</td>\n",
       "    </tr>\n",
       "    <tr>\n",
       "      <th>...</th>\n",
       "      <td>...</td>\n",
       "      <td>...</td>\n",
       "      <td>...</td>\n",
       "      <td>...</td>\n",
       "      <td>...</td>\n",
       "      <td>...</td>\n",
       "      <td>...</td>\n",
       "      <td>...</td>\n",
       "    </tr>\n",
       "    <tr>\n",
       "      <th>1351</th>\n",
       "      <td>Virginia Foxx</td>\n",
       "      <td>FLNG</td>\n",
       "      <td>Republican</td>\n",
       "      <td>House</td>\n",
       "      <td>NC</td>\n",
       "      <td>2023-1-3</td>\n",
       "      <td>2024-12-5</td>\n",
       "      <td>26.912435</td>\n",
       "    </tr>\n",
       "    <tr>\n",
       "      <th>1352</th>\n",
       "      <td>Virginia Foxx</td>\n",
       "      <td>MO</td>\n",
       "      <td>Republican</td>\n",
       "      <td>House</td>\n",
       "      <td>NC</td>\n",
       "      <td>2023-1-16</td>\n",
       "      <td>2024-1-9</td>\n",
       "      <td>37.561198</td>\n",
       "    </tr>\n",
       "    <tr>\n",
       "      <th>1353</th>\n",
       "      <td>Virginia Foxx</td>\n",
       "      <td>PAA</td>\n",
       "      <td>Republican</td>\n",
       "      <td>House</td>\n",
       "      <td>NC</td>\n",
       "      <td>2023-3-23</td>\n",
       "      <td>2023-10-2</td>\n",
       "      <td>10.383142</td>\n",
       "    </tr>\n",
       "    <tr>\n",
       "      <th>1354</th>\n",
       "      <td>Virginia Foxx</td>\n",
       "      <td>T</td>\n",
       "      <td>Republican</td>\n",
       "      <td>House</td>\n",
       "      <td>NC</td>\n",
       "      <td>2023-1-31</td>\n",
       "      <td>2024-12-5</td>\n",
       "      <td>17.820059</td>\n",
       "    </tr>\n",
       "    <tr>\n",
       "      <th>1355</th>\n",
       "      <td>Virginia Foxx</td>\n",
       "      <td>TAK</td>\n",
       "      <td>Republican</td>\n",
       "      <td>House</td>\n",
       "      <td>NC</td>\n",
       "      <td>2023-2-15</td>\n",
       "      <td>2023-8-28</td>\n",
       "      <td>15.690000</td>\n",
       "    </tr>\n",
       "  </tbody>\n",
       "</table>\n",
       "<p>1356 rows × 8 columns</p>\n",
       "</div>"
      ],
      "text/plain": [
       "               Name Ticker       Party Chamber State   Buy Date  Sell Date  \\\n",
       "0      Bill Keating   ABNB    Democrat   House    MA  2023-1-17  2024-5-16   \n",
       "1      Bill Keating     BA    Democrat   House    MA  2023-9-14   2024-2-7   \n",
       "2      Bill Keating    BAC    Democrat   House    MA  2024-1-17  2024-9-10   \n",
       "3      Bill Keating     GM    Democrat   House    MA  2023-6-26  2024-9-10   \n",
       "4      Bill Keating  GOOGL    Democrat   House    MA  2023-2-12  2024-5-16   \n",
       "...             ...    ...         ...     ...   ...        ...        ...   \n",
       "1351  Virginia Foxx   FLNG  Republican   House    NC   2023-1-3  2024-12-5   \n",
       "1352  Virginia Foxx     MO  Republican   House    NC  2023-1-16   2024-1-9   \n",
       "1353  Virginia Foxx    PAA  Republican   House    NC  2023-3-23  2023-10-2   \n",
       "1354  Virginia Foxx      T  Republican   House    NC  2023-1-31  2024-12-5   \n",
       "1355  Virginia Foxx    TAK  Republican   House    NC  2023-2-15  2023-8-28   \n",
       "\n",
       "       Buy Price  \n",
       "0      99.915001  \n",
       "1     209.139999  \n",
       "2      30.738856  \n",
       "3      35.371884  \n",
       "4      94.995828  \n",
       "...          ...  \n",
       "1351   26.912435  \n",
       "1352   37.561198  \n",
       "1353   10.383142  \n",
       "1354   17.820059  \n",
       "1355   15.690000  \n",
       "\n",
       "[1356 rows x 8 columns]"
      ]
     },
     "execution_count": 5,
     "metadata": {},
     "output_type": "execute_result"
    }
   ],
   "source": [
    "df[\"Buy Price\"] = df.apply(lambda row: get_stock_price(row[\"Ticker\"], row[\"Buy Date\"], \"Open\"), axis=1)\n",
    "\n",
    "df"
   ]
  },
  {
   "cell_type": "markdown",
   "metadata": {},
   "source": [
    "#### Get Closing Price on Day of Sale"
   ]
  },
  {
   "cell_type": "code",
   "execution_count": 6,
   "metadata": {},
   "outputs": [
    {
     "name": "stderr",
     "output_type": "stream",
     "text": [
      "$AIG: possibly delisted; no price data found  (1d 2023-04-07 -> 2023-04-10)\n"
     ]
    },
    {
     "name": "stdout",
     "output_type": "stream",
     "text": [
      "retrying...\n",
      "--- The Retry Was Sucessfull---\n"
     ]
    },
    {
     "name": "stderr",
     "output_type": "stream",
     "text": [
      "$COF: possibly delisted; no price data found  (1d 2023-04-07 -> 2023-04-10)\n"
     ]
    },
    {
     "name": "stdout",
     "output_type": "stream",
     "text": [
      "retrying...\n"
     ]
    },
    {
     "name": "stderr",
     "output_type": "stream",
     "text": [
      "$CVS: possibly delisted; no price data found  (1d 2023-04-07 -> 2023-04-10)\n"
     ]
    },
    {
     "name": "stdout",
     "output_type": "stream",
     "text": [
      "--- The Retry Was Sucessfull---\n",
      "retrying...\n",
      "--- The Retry Was Sucessfull---\n"
     ]
    },
    {
     "name": "stderr",
     "output_type": "stream",
     "text": [
      "$ENPH: possibly delisted; no price data found  (1d 2023-04-07 -> 2023-04-10)\n"
     ]
    },
    {
     "name": "stdout",
     "output_type": "stream",
     "text": [
      "retrying...\n",
      "--- The Retry Was Sucessfull---\n"
     ]
    },
    {
     "name": "stderr",
     "output_type": "stream",
     "text": [
      "$EWBC: possibly delisted; no price data found  (1d 2023-04-07 -> 2023-04-10)\n"
     ]
    },
    {
     "name": "stdout",
     "output_type": "stream",
     "text": [
      "retrying...\n",
      "--- The Retry Was Sucessfull---\n"
     ]
    },
    {
     "name": "stderr",
     "output_type": "stream",
     "text": [
      "$FITB: possibly delisted; no price data found  (1d 2023-04-07 -> 2023-04-10)\n"
     ]
    },
    {
     "name": "stdout",
     "output_type": "stream",
     "text": [
      "retrying...\n"
     ]
    },
    {
     "name": "stderr",
     "output_type": "stream",
     "text": [
      "$FLO: possibly delisted; no price data found  (1d 2023-04-07 -> 2023-04-10)\n"
     ]
    },
    {
     "name": "stdout",
     "output_type": "stream",
     "text": [
      "--- The Retry Was Sucessfull---\n",
      "retrying...\n",
      "--- The Retry Was Sucessfull---\n"
     ]
    },
    {
     "name": "stderr",
     "output_type": "stream",
     "text": [
      "$GM: possibly delisted; no price data found  (1d 2023-04-07 -> 2023-04-10)\n"
     ]
    },
    {
     "name": "stdout",
     "output_type": "stream",
     "text": [
      "retrying...\n",
      "--- The Retry Was Sucessfull---\n"
     ]
    },
    {
     "name": "stderr",
     "output_type": "stream",
     "text": [
      "$HRL: possibly delisted; no price data found  (1d 2023-04-07 -> 2023-04-10)\n"
     ]
    },
    {
     "name": "stdout",
     "output_type": "stream",
     "text": [
      "retrying...\n",
      "--- The Retry Was Sucessfull---\n"
     ]
    },
    {
     "name": "stderr",
     "output_type": "stream",
     "text": [
      "$NOV: possibly delisted; no price data found  (1d 2023-04-07 -> 2023-04-10)\n"
     ]
    },
    {
     "name": "stdout",
     "output_type": "stream",
     "text": [
      "retrying...\n"
     ]
    },
    {
     "name": "stderr",
     "output_type": "stream",
     "text": [
      "$NTRA: possibly delisted; no price data found  (1d 2023-04-07 -> 2023-04-10)\n"
     ]
    },
    {
     "name": "stdout",
     "output_type": "stream",
     "text": [
      "--- The Retry Was Sucessfull---\n",
      "retrying...\n",
      "--- The Retry Was Sucessfull---\n"
     ]
    },
    {
     "name": "stderr",
     "output_type": "stream",
     "text": [
      "$RGA: possibly delisted; no price data found  (1d 2023-04-07 -> 2023-04-10)\n"
     ]
    },
    {
     "name": "stdout",
     "output_type": "stream",
     "text": [
      "retrying...\n",
      "--- The Retry Was Sucessfull---\n"
     ]
    },
    {
     "name": "stderr",
     "output_type": "stream",
     "text": [
      "$RITM: possibly delisted; no price data found  (1d 2023-04-07 -> 2023-04-10)\n"
     ]
    },
    {
     "name": "stdout",
     "output_type": "stream",
     "text": [
      "retrying...\n",
      "--- The Retry Was Sucessfull---\n"
     ]
    },
    {
     "name": "stderr",
     "output_type": "stream",
     "text": [
      "$SBRA: possibly delisted; no price data found  (1d 2023-04-07 -> 2023-04-10)\n"
     ]
    },
    {
     "name": "stdout",
     "output_type": "stream",
     "text": [
      "retrying...\n",
      "--- The Retry Was Sucessfull---\n"
     ]
    },
    {
     "name": "stderr",
     "output_type": "stream",
     "text": [
      "$SRPT: possibly delisted; no price data found  (1d 2023-04-07 -> 2023-04-10)\n"
     ]
    },
    {
     "name": "stdout",
     "output_type": "stream",
     "text": [
      "retrying...\n",
      "--- The Retry Was Sucessfull---\n"
     ]
    },
    {
     "name": "stderr",
     "output_type": "stream",
     "text": [
      "$SWX: possibly delisted; no price data found  (1d 2023-04-07 -> 2023-04-10)\n"
     ]
    },
    {
     "name": "stdout",
     "output_type": "stream",
     "text": [
      "retrying...\n",
      "--- The Retry Was Sucessfull---\n"
     ]
    },
    {
     "name": "stderr",
     "output_type": "stream",
     "text": [
      "$TAP: possibly delisted; no price data found  (1d 2023-04-07 -> 2023-04-10)\n"
     ]
    },
    {
     "name": "stdout",
     "output_type": "stream",
     "text": [
      "retrying...\n",
      "--- The Retry Was Sucessfull---\n"
     ]
    },
    {
     "name": "stderr",
     "output_type": "stream",
     "text": [
      "$UAL: possibly delisted; no price data found  (1d 2023-04-07 -> 2023-04-10)\n"
     ]
    },
    {
     "name": "stdout",
     "output_type": "stream",
     "text": [
      "retrying...\n",
      "--- The Retry Was Sucessfull---\n"
     ]
    },
    {
     "name": "stderr",
     "output_type": "stream",
     "text": [
      "$UNM: possibly delisted; no price data found  (1d 2023-04-07 -> 2023-04-10)\n"
     ]
    },
    {
     "name": "stdout",
     "output_type": "stream",
     "text": [
      "retrying...\n",
      "--- The Retry Was Sucessfull---\n"
     ]
    },
    {
     "name": "stderr",
     "output_type": "stream",
     "text": [
      "$VTRS: possibly delisted; no price data found  (1d 2023-04-07 -> 2023-04-10)\n"
     ]
    },
    {
     "name": "stdout",
     "output_type": "stream",
     "text": [
      "retrying...\n",
      "--- The Retry Was Sucessfull---\n"
     ]
    },
    {
     "name": "stderr",
     "output_type": "stream",
     "text": [
      "$X: possibly delisted; no price data found  (1d 2023-04-07 -> 2023-04-10)\n"
     ]
    },
    {
     "name": "stdout",
     "output_type": "stream",
     "text": [
      "retrying...\n",
      "--- The Retry Was Sucessfull---\n"
     ]
    },
    {
     "name": "stderr",
     "output_type": "stream",
     "text": [
      "$ADI: possibly delisted; no price data found  (1d 2023-05-29 -> 2023-05-30)\n"
     ]
    },
    {
     "name": "stdout",
     "output_type": "stream",
     "text": [
      "retrying...\n",
      "--- The Retry Was Sucessfull---\n"
     ]
    },
    {
     "name": "stderr",
     "output_type": "stream",
     "text": [
      "$URI: possibly delisted; no price data found  (1d 2024-06-19 -> 2024-06-20)\n"
     ]
    },
    {
     "name": "stdout",
     "output_type": "stream",
     "text": [
      "retrying...\n",
      "--- The Retry Was Sucessfull---\n"
     ]
    },
    {
     "name": "stderr",
     "output_type": "stream",
     "text": [
      "$PLD: possibly delisted; no price data found  (1d 2023-10-23 -> 2023-10-24)\n"
     ]
    },
    {
     "name": "stdout",
     "output_type": "stream",
     "text": [
      "retrying...\n"
     ]
    },
    {
     "name": "stderr",
     "output_type": "stream",
     "text": [
      "$PLD: possibly delisted; no price data found  (1d 2023-10-20 -> 2023-10-24)\n"
     ]
    },
    {
     "name": "stdout",
     "output_type": "stream",
     "text": [
      "retrying...\n"
     ]
    },
    {
     "name": "stderr",
     "output_type": "stream",
     "text": [
      "$PLD: possibly delisted; no price data found  (1d 2023-10-19 -> 2023-10-24)\n"
     ]
    },
    {
     "name": "stdout",
     "output_type": "stream",
     "text": [
      "retrying...\n",
      "--- The Retry Was Sucessfull---\n"
     ]
    },
    {
     "name": "stderr",
     "output_type": "stream",
     "text": [
      "$LOW: possibly delisted; no price data found  (1d 2024-07-04 -> 2024-07-05)\n"
     ]
    },
    {
     "name": "stdout",
     "output_type": "stream",
     "text": [
      "retrying...\n"
     ]
    },
    {
     "name": "stderr",
     "output_type": "stream",
     "text": [
      "$MA: possibly delisted; no price data found  (1d 2024-07-04 -> 2024-07-05)\n"
     ]
    },
    {
     "name": "stdout",
     "output_type": "stream",
     "text": [
      "--- The Retry Was Sucessfull---\n",
      "retrying...\n"
     ]
    },
    {
     "name": "stderr",
     "output_type": "stream",
     "text": [
      "$MDLZ: possibly delisted; no price data found  (1d 2024-07-04 -> 2024-07-05)\n"
     ]
    },
    {
     "name": "stdout",
     "output_type": "stream",
     "text": [
      "--- The Retry Was Sucessfull---\n",
      "retrying...\n",
      "--- The Retry Was Sucessfull---\n"
     ]
    },
    {
     "name": "stderr",
     "output_type": "stream",
     "text": [
      "$PNC: possibly delisted; no price data found  (1d 2024-07-04 -> 2024-07-05)\n"
     ]
    },
    {
     "name": "stdout",
     "output_type": "stream",
     "text": [
      "retrying...\n"
     ]
    },
    {
     "name": "stderr",
     "output_type": "stream",
     "text": [
      "$SNA: possibly delisted; no price data found  (1d 2024-07-04 -> 2024-07-05)\n"
     ]
    },
    {
     "name": "stdout",
     "output_type": "stream",
     "text": [
      "--- The Retry Was Sucessfull---\n",
      "retrying...\n",
      "--- The Retry Was Sucessfull---\n"
     ]
    },
    {
     "name": "stderr",
     "output_type": "stream",
     "text": [
      "$WEC: possibly delisted; no price data found  (1d 2024-07-04 -> 2024-07-05)\n"
     ]
    },
    {
     "name": "stdout",
     "output_type": "stream",
     "text": [
      "retrying...\n"
     ]
    },
    {
     "name": "stderr",
     "output_type": "stream",
     "text": [
      "$WM: possibly delisted; no price data found  (1d 2024-07-04 -> 2024-07-05)\n"
     ]
    },
    {
     "name": "stdout",
     "output_type": "stream",
     "text": [
      "--- The Retry Was Sucessfull---\n",
      "retrying...\n",
      "--- The Retry Was Sucessfull---\n"
     ]
    },
    {
     "name": "stderr",
     "output_type": "stream",
     "text": [
      "$ZTS: possibly delisted; no price data found  (1d 2024-07-04 -> 2024-07-05)\n"
     ]
    },
    {
     "name": "stdout",
     "output_type": "stream",
     "text": [
      "retrying...\n",
      "--- The Retry Was Sucessfull---\n"
     ]
    },
    {
     "name": "stderr",
     "output_type": "stream",
     "text": [
      "$VOYA: possibly delisted; no price data found  (1d 2024-07-04 -> 2024-07-05)\n"
     ]
    },
    {
     "name": "stdout",
     "output_type": "stream",
     "text": [
      "retrying...\n",
      "--- The Retry Was Sucessfull---\n"
     ]
    },
    {
     "name": "stderr",
     "output_type": "stream",
     "text": [
      "$COP: possibly delisted; no price data found  (1d 2024-07-04 -> 2024-07-05)\n"
     ]
    },
    {
     "name": "stdout",
     "output_type": "stream",
     "text": [
      "retrying...\n",
      "--- The Retry Was Sucessfull---\n"
     ]
    },
    {
     "name": "stderr",
     "output_type": "stream",
     "text": [
      "$BNTX: possibly delisted; no price data found  (1d 2024-09-02 -> 2024-09-03)\n"
     ]
    },
    {
     "name": "stdout",
     "output_type": "stream",
     "text": [
      "retrying...\n",
      "--- The Retry Was Sucessfull---\n"
     ]
    },
    {
     "name": "stderr",
     "output_type": "stream",
     "text": [
      "$AMD: possibly delisted; no price data found  (1d 2024-01-01 -> 2024-01-02)\n"
     ]
    },
    {
     "name": "stdout",
     "output_type": "stream",
     "text": [
      "retrying...\n"
     ]
    },
    {
     "name": "stderr",
     "output_type": "stream",
     "text": [
      "$AMGN: possibly delisted; no price data found  (1d 2024-01-01 -> 2024-01-02)\n"
     ]
    },
    {
     "name": "stdout",
     "output_type": "stream",
     "text": [
      "--- The Retry Was Sucessfull---\n",
      "retrying...\n",
      "--- The Retry Was Sucessfull---\n"
     ]
    },
    {
     "name": "stderr",
     "output_type": "stream",
     "text": [
      "$ILMN: possibly delisted; no price data found  (1d 2024-09-02 -> 2024-09-03)\n"
     ]
    },
    {
     "name": "stdout",
     "output_type": "stream",
     "text": [
      "retrying...\n",
      "--- The Retry Was Sucessfull---\n"
     ]
    },
    {
     "name": "stderr",
     "output_type": "stream",
     "text": [
      "$ELV: possibly delisted; no price data found  (1d 2023-07-04 -> 2023-07-05)\n"
     ]
    },
    {
     "name": "stdout",
     "output_type": "stream",
     "text": [
      "retrying...\n",
      "--- The Retry Was Sucessfull---\n"
     ]
    },
    {
     "name": "stderr",
     "output_type": "stream",
     "text": [
      "$BBY: possibly delisted; no price data found  (1d 2024-05-27 -> 2024-05-28)\n"
     ]
    },
    {
     "name": "stdout",
     "output_type": "stream",
     "text": [
      "retrying...\n",
      "--- The Retry Was Sucessfull---\n"
     ]
    },
    {
     "name": "stderr",
     "output_type": "stream",
     "text": [
      "$CDW: possibly delisted; no price data found  (1d 2024-05-28 -> 2024-05-29)\n"
     ]
    },
    {
     "name": "stdout",
     "output_type": "stream",
     "text": [
      "retrying...\n"
     ]
    },
    {
     "name": "stderr",
     "output_type": "stream",
     "text": [
      "$CDW: possibly delisted; no price data found  (1d 2024-05-27 -> 2024-05-29)\n"
     ]
    },
    {
     "name": "stdout",
     "output_type": "stream",
     "text": [
      "retrying...\n",
      "--- The Retry Was Sucessfull---\n"
     ]
    },
    {
     "name": "stderr",
     "output_type": "stream",
     "text": [
      "$CMI: possibly delisted; no price data found  (1d 2024-08-19 -> 2024-08-20)\n"
     ]
    },
    {
     "name": "stdout",
     "output_type": "stream",
     "text": [
      "retrying...\n"
     ]
    },
    {
     "name": "stderr",
     "output_type": "stream",
     "text": [
      "$CMI: possibly delisted; no price data found  (1d 2024-08-16 -> 2024-08-20)\n"
     ]
    },
    {
     "name": "stdout",
     "output_type": "stream",
     "text": [
      "retrying...\n",
      "--- The Retry Was Sucessfull---\n"
     ]
    },
    {
     "name": "stderr",
     "output_type": "stream",
     "text": [
      "$CRI: possibly delisted; no price data found  (1d 2024-09-02 -> 2024-09-03)\n"
     ]
    },
    {
     "name": "stdout",
     "output_type": "stream",
     "text": [
      "retrying...\n",
      "--- The Retry Was Sucessfull---\n"
     ]
    },
    {
     "name": "stderr",
     "output_type": "stream",
     "text": [
      "$DD: possibly delisted; no price data found  (1d 2024-02-12 -> 2024-02-13)\n"
     ]
    },
    {
     "name": "stdout",
     "output_type": "stream",
     "text": [
      "retrying...\n"
     ]
    },
    {
     "name": "stderr",
     "output_type": "stream",
     "text": [
      "$DDOG: possibly delisted; no price data found  (1d 2023-04-07 -> 2023-04-10)\n"
     ]
    },
    {
     "name": "stdout",
     "output_type": "stream",
     "text": [
      "--- The Retry Was Sucessfull---\n",
      "retrying...\n",
      "--- The Retry Was Sucessfull---\n"
     ]
    },
    {
     "name": "stderr",
     "output_type": "stream",
     "text": [
      "$EWBC: possibly delisted; no price data found  (1d 2023-04-07 -> 2023-04-10)\n"
     ]
    },
    {
     "name": "stdout",
     "output_type": "stream",
     "text": [
      "retrying...\n",
      "--- The Retry Was Sucessfull---\n"
     ]
    },
    {
     "name": "stderr",
     "output_type": "stream",
     "text": [
      "$JNPR: possibly delisted; no price data found  (1d 2024-05-27 -> 2024-05-28)\n"
     ]
    },
    {
     "name": "stdout",
     "output_type": "stream",
     "text": [
      "retrying...\n",
      "--- The Retry Was Sucessfull---\n"
     ]
    },
    {
     "name": "stderr",
     "output_type": "stream",
     "text": [
      "$LBRDA: possibly delisted; no price data found  (1d 2023-04-07 -> 2023-04-10)\n"
     ]
    },
    {
     "name": "stdout",
     "output_type": "stream",
     "text": [
      "retrying...\n",
      "--- The Retry Was Sucessfull---\n"
     ]
    },
    {
     "name": "stderr",
     "output_type": "stream",
     "text": [
      "$NOW: possibly delisted; no price data found  (1d 2024-05-27 -> 2024-05-28)\n"
     ]
    },
    {
     "name": "stdout",
     "output_type": "stream",
     "text": [
      "retrying...\n",
      "--- The Retry Was Sucessfull---\n"
     ]
    },
    {
     "name": "stderr",
     "output_type": "stream",
     "text": [
      "$SJM: possibly delisted; no price data found  (1d 2024-05-27 -> 2024-05-28)\n"
     ]
    },
    {
     "name": "stdout",
     "output_type": "stream",
     "text": [
      "retrying...\n",
      "--- The Retry Was Sucessfull---\n"
     ]
    },
    {
     "name": "stderr",
     "output_type": "stream",
     "text": [
      "$TYL: possibly delisted; no price data found  (1d 2023-04-07 -> 2023-04-10)\n"
     ]
    },
    {
     "name": "stdout",
     "output_type": "stream",
     "text": [
      "retrying...\n"
     ]
    },
    {
     "name": "stderr",
     "output_type": "stream",
     "text": [
      "$UAL: possibly delisted; no price data found  (1d 2024-05-27 -> 2024-05-28)\n"
     ]
    },
    {
     "name": "stdout",
     "output_type": "stream",
     "text": [
      "--- The Retry Was Sucessfull---\n",
      "retrying...\n",
      "--- The Retry Was Sucessfull---\n"
     ]
    },
    {
     "name": "stderr",
     "output_type": "stream",
     "text": [
      "$WBS: possibly delisted; no price data found  (1d 2023-04-07 -> 2023-04-10)\n"
     ]
    },
    {
     "name": "stdout",
     "output_type": "stream",
     "text": [
      "retrying...\n",
      "--- The Retry Was Sucessfull---\n"
     ]
    },
    {
     "name": "stderr",
     "output_type": "stream",
     "text": [
      "$RF: possibly delisted; no price data found  (1d 2023-12-25 -> 2023-12-26)\n"
     ]
    },
    {
     "name": "stdout",
     "output_type": "stream",
     "text": [
      "retrying...\n",
      "--- The Retry Was Sucessfull---\n"
     ]
    },
    {
     "data": {
      "text/html": [
       "<div>\n",
       "<style scoped>\n",
       "    .dataframe tbody tr th:only-of-type {\n",
       "        vertical-align: middle;\n",
       "    }\n",
       "\n",
       "    .dataframe tbody tr th {\n",
       "        vertical-align: top;\n",
       "    }\n",
       "\n",
       "    .dataframe thead th {\n",
       "        text-align: right;\n",
       "    }\n",
       "</style>\n",
       "<table border=\"1\" class=\"dataframe\">\n",
       "  <thead>\n",
       "    <tr style=\"text-align: right;\">\n",
       "      <th></th>\n",
       "      <th>Name</th>\n",
       "      <th>Ticker</th>\n",
       "      <th>Party</th>\n",
       "      <th>Chamber</th>\n",
       "      <th>State</th>\n",
       "      <th>Buy Date</th>\n",
       "      <th>Sell Date</th>\n",
       "      <th>Buy Price</th>\n",
       "      <th>Sell Price</th>\n",
       "    </tr>\n",
       "  </thead>\n",
       "  <tbody>\n",
       "    <tr>\n",
       "      <th>0</th>\n",
       "      <td>Bill Keating</td>\n",
       "      <td>ABNB</td>\n",
       "      <td>Democrat</td>\n",
       "      <td>House</td>\n",
       "      <td>MA</td>\n",
       "      <td>2023-1-17</td>\n",
       "      <td>2024-5-16</td>\n",
       "      <td>99.915001</td>\n",
       "      <td>147.190002</td>\n",
       "    </tr>\n",
       "    <tr>\n",
       "      <th>1</th>\n",
       "      <td>Bill Keating</td>\n",
       "      <td>BA</td>\n",
       "      <td>Democrat</td>\n",
       "      <td>House</td>\n",
       "      <td>MA</td>\n",
       "      <td>2023-9-14</td>\n",
       "      <td>2024-2-7</td>\n",
       "      <td>209.139999</td>\n",
       "      <td>211.919998</td>\n",
       "    </tr>\n",
       "    <tr>\n",
       "      <th>2</th>\n",
       "      <td>Bill Keating</td>\n",
       "      <td>BAC</td>\n",
       "      <td>Democrat</td>\n",
       "      <td>House</td>\n",
       "      <td>MA</td>\n",
       "      <td>2024-1-17</td>\n",
       "      <td>2024-9-10</td>\n",
       "      <td>30.738856</td>\n",
       "      <td>38.817738</td>\n",
       "    </tr>\n",
       "    <tr>\n",
       "      <th>3</th>\n",
       "      <td>Bill Keating</td>\n",
       "      <td>GM</td>\n",
       "      <td>Democrat</td>\n",
       "      <td>House</td>\n",
       "      <td>MA</td>\n",
       "      <td>2023-6-26</td>\n",
       "      <td>2024-9-10</td>\n",
       "      <td>35.371884</td>\n",
       "      <td>44.605568</td>\n",
       "    </tr>\n",
       "    <tr>\n",
       "      <th>4</th>\n",
       "      <td>Bill Keating</td>\n",
       "      <td>GOOGL</td>\n",
       "      <td>Democrat</td>\n",
       "      <td>House</td>\n",
       "      <td>MA</td>\n",
       "      <td>2023-2-12</td>\n",
       "      <td>2024-5-16</td>\n",
       "      <td>94.995828</td>\n",
       "      <td>173.351212</td>\n",
       "    </tr>\n",
       "    <tr>\n",
       "      <th>...</th>\n",
       "      <td>...</td>\n",
       "      <td>...</td>\n",
       "      <td>...</td>\n",
       "      <td>...</td>\n",
       "      <td>...</td>\n",
       "      <td>...</td>\n",
       "      <td>...</td>\n",
       "      <td>...</td>\n",
       "      <td>...</td>\n",
       "    </tr>\n",
       "    <tr>\n",
       "      <th>1351</th>\n",
       "      <td>Virginia Foxx</td>\n",
       "      <td>FLNG</td>\n",
       "      <td>Republican</td>\n",
       "      <td>House</td>\n",
       "      <td>NC</td>\n",
       "      <td>2023-1-3</td>\n",
       "      <td>2024-12-5</td>\n",
       "      <td>26.912435</td>\n",
       "      <td>22.639999</td>\n",
       "    </tr>\n",
       "    <tr>\n",
       "      <th>1352</th>\n",
       "      <td>Virginia Foxx</td>\n",
       "      <td>MO</td>\n",
       "      <td>Republican</td>\n",
       "      <td>House</td>\n",
       "      <td>NC</td>\n",
       "      <td>2023-1-16</td>\n",
       "      <td>2024-1-9</td>\n",
       "      <td>37.561198</td>\n",
       "      <td>37.866795</td>\n",
       "    </tr>\n",
       "    <tr>\n",
       "      <th>1353</th>\n",
       "      <td>Virginia Foxx</td>\n",
       "      <td>PAA</td>\n",
       "      <td>Republican</td>\n",
       "      <td>House</td>\n",
       "      <td>NC</td>\n",
       "      <td>2023-3-23</td>\n",
       "      <td>2023-10-2</td>\n",
       "      <td>10.383142</td>\n",
       "      <td>13.596812</td>\n",
       "    </tr>\n",
       "    <tr>\n",
       "      <th>1354</th>\n",
       "      <td>Virginia Foxx</td>\n",
       "      <td>T</td>\n",
       "      <td>Republican</td>\n",
       "      <td>House</td>\n",
       "      <td>NC</td>\n",
       "      <td>2023-1-31</td>\n",
       "      <td>2024-12-5</td>\n",
       "      <td>17.820059</td>\n",
       "      <td>23.531321</td>\n",
       "    </tr>\n",
       "    <tr>\n",
       "      <th>1355</th>\n",
       "      <td>Virginia Foxx</td>\n",
       "      <td>TAK</td>\n",
       "      <td>Republican</td>\n",
       "      <td>House</td>\n",
       "      <td>NC</td>\n",
       "      <td>2023-2-15</td>\n",
       "      <td>2023-8-28</td>\n",
       "      <td>15.690000</td>\n",
       "      <td>15.280000</td>\n",
       "    </tr>\n",
       "  </tbody>\n",
       "</table>\n",
       "<p>1356 rows × 9 columns</p>\n",
       "</div>"
      ],
      "text/plain": [
       "               Name Ticker       Party Chamber State   Buy Date  Sell Date  \\\n",
       "0      Bill Keating   ABNB    Democrat   House    MA  2023-1-17  2024-5-16   \n",
       "1      Bill Keating     BA    Democrat   House    MA  2023-9-14   2024-2-7   \n",
       "2      Bill Keating    BAC    Democrat   House    MA  2024-1-17  2024-9-10   \n",
       "3      Bill Keating     GM    Democrat   House    MA  2023-6-26  2024-9-10   \n",
       "4      Bill Keating  GOOGL    Democrat   House    MA  2023-2-12  2024-5-16   \n",
       "...             ...    ...         ...     ...   ...        ...        ...   \n",
       "1351  Virginia Foxx   FLNG  Republican   House    NC   2023-1-3  2024-12-5   \n",
       "1352  Virginia Foxx     MO  Republican   House    NC  2023-1-16   2024-1-9   \n",
       "1353  Virginia Foxx    PAA  Republican   House    NC  2023-3-23  2023-10-2   \n",
       "1354  Virginia Foxx      T  Republican   House    NC  2023-1-31  2024-12-5   \n",
       "1355  Virginia Foxx    TAK  Republican   House    NC  2023-2-15  2023-8-28   \n",
       "\n",
       "       Buy Price  Sell Price  \n",
       "0      99.915001  147.190002  \n",
       "1     209.139999  211.919998  \n",
       "2      30.738856   38.817738  \n",
       "3      35.371884   44.605568  \n",
       "4      94.995828  173.351212  \n",
       "...          ...         ...  \n",
       "1351   26.912435   22.639999  \n",
       "1352   37.561198   37.866795  \n",
       "1353   10.383142   13.596812  \n",
       "1354   17.820059   23.531321  \n",
       "1355   15.690000   15.280000  \n",
       "\n",
       "[1356 rows x 9 columns]"
      ]
     },
     "execution_count": 6,
     "metadata": {},
     "output_type": "execute_result"
    }
   ],
   "source": [
    "df[\"Sell Price\"] = df.apply(lambda row: get_stock_price(row[\"Ticker\"], row[\"Sell Date\"], \"Close\"), axis=1)\n",
    "\n",
    "df"
   ]
  },
  {
   "cell_type": "markdown",
   "metadata": {},
   "source": [
    "#### Calculate Trade Return %"
   ]
  },
  {
   "cell_type": "code",
   "execution_count": 7,
   "metadata": {},
   "outputs": [
    {
     "data": {
      "text/html": [
       "<div>\n",
       "<style scoped>\n",
       "    .dataframe tbody tr th:only-of-type {\n",
       "        vertical-align: middle;\n",
       "    }\n",
       "\n",
       "    .dataframe tbody tr th {\n",
       "        vertical-align: top;\n",
       "    }\n",
       "\n",
       "    .dataframe thead th {\n",
       "        text-align: right;\n",
       "    }\n",
       "</style>\n",
       "<table border=\"1\" class=\"dataframe\">\n",
       "  <thead>\n",
       "    <tr style=\"text-align: right;\">\n",
       "      <th></th>\n",
       "      <th>Name</th>\n",
       "      <th>Ticker</th>\n",
       "      <th>Party</th>\n",
       "      <th>Chamber</th>\n",
       "      <th>State</th>\n",
       "      <th>Buy Date</th>\n",
       "      <th>Sell Date</th>\n",
       "      <th>Buy Price</th>\n",
       "      <th>Sell Price</th>\n",
       "      <th>Trade Return %</th>\n",
       "    </tr>\n",
       "  </thead>\n",
       "  <tbody>\n",
       "    <tr>\n",
       "      <th>0</th>\n",
       "      <td>Bill Keating</td>\n",
       "      <td>ABNB</td>\n",
       "      <td>Democrat</td>\n",
       "      <td>House</td>\n",
       "      <td>MA</td>\n",
       "      <td>2023-1-17</td>\n",
       "      <td>2024-5-16</td>\n",
       "      <td>99.915001</td>\n",
       "      <td>147.190002</td>\n",
       "      <td>47.315219</td>\n",
       "    </tr>\n",
       "    <tr>\n",
       "      <th>1</th>\n",
       "      <td>Bill Keating</td>\n",
       "      <td>BA</td>\n",
       "      <td>Democrat</td>\n",
       "      <td>House</td>\n",
       "      <td>MA</td>\n",
       "      <td>2023-9-14</td>\n",
       "      <td>2024-2-7</td>\n",
       "      <td>209.139999</td>\n",
       "      <td>211.919998</td>\n",
       "      <td>1.329253</td>\n",
       "    </tr>\n",
       "    <tr>\n",
       "      <th>2</th>\n",
       "      <td>Bill Keating</td>\n",
       "      <td>BAC</td>\n",
       "      <td>Democrat</td>\n",
       "      <td>House</td>\n",
       "      <td>MA</td>\n",
       "      <td>2024-1-17</td>\n",
       "      <td>2024-9-10</td>\n",
       "      <td>30.738856</td>\n",
       "      <td>38.817738</td>\n",
       "      <td>26.282310</td>\n",
       "    </tr>\n",
       "    <tr>\n",
       "      <th>3</th>\n",
       "      <td>Bill Keating</td>\n",
       "      <td>GM</td>\n",
       "      <td>Democrat</td>\n",
       "      <td>House</td>\n",
       "      <td>MA</td>\n",
       "      <td>2023-6-26</td>\n",
       "      <td>2024-9-10</td>\n",
       "      <td>35.371884</td>\n",
       "      <td>44.605568</td>\n",
       "      <td>26.104586</td>\n",
       "    </tr>\n",
       "    <tr>\n",
       "      <th>4</th>\n",
       "      <td>Bill Keating</td>\n",
       "      <td>GOOGL</td>\n",
       "      <td>Democrat</td>\n",
       "      <td>House</td>\n",
       "      <td>MA</td>\n",
       "      <td>2023-2-12</td>\n",
       "      <td>2024-5-16</td>\n",
       "      <td>94.995828</td>\n",
       "      <td>173.351212</td>\n",
       "      <td>82.482973</td>\n",
       "    </tr>\n",
       "    <tr>\n",
       "      <th>...</th>\n",
       "      <td>...</td>\n",
       "      <td>...</td>\n",
       "      <td>...</td>\n",
       "      <td>...</td>\n",
       "      <td>...</td>\n",
       "      <td>...</td>\n",
       "      <td>...</td>\n",
       "      <td>...</td>\n",
       "      <td>...</td>\n",
       "      <td>...</td>\n",
       "    </tr>\n",
       "    <tr>\n",
       "      <th>1351</th>\n",
       "      <td>Virginia Foxx</td>\n",
       "      <td>FLNG</td>\n",
       "      <td>Republican</td>\n",
       "      <td>House</td>\n",
       "      <td>NC</td>\n",
       "      <td>2023-1-3</td>\n",
       "      <td>2024-12-5</td>\n",
       "      <td>26.912435</td>\n",
       "      <td>22.639999</td>\n",
       "      <td>-15.875322</td>\n",
       "    </tr>\n",
       "    <tr>\n",
       "      <th>1352</th>\n",
       "      <td>Virginia Foxx</td>\n",
       "      <td>MO</td>\n",
       "      <td>Republican</td>\n",
       "      <td>House</td>\n",
       "      <td>NC</td>\n",
       "      <td>2023-1-16</td>\n",
       "      <td>2024-1-9</td>\n",
       "      <td>37.561198</td>\n",
       "      <td>37.866795</td>\n",
       "      <td>0.813598</td>\n",
       "    </tr>\n",
       "    <tr>\n",
       "      <th>1353</th>\n",
       "      <td>Virginia Foxx</td>\n",
       "      <td>PAA</td>\n",
       "      <td>Republican</td>\n",
       "      <td>House</td>\n",
       "      <td>NC</td>\n",
       "      <td>2023-3-23</td>\n",
       "      <td>2023-10-2</td>\n",
       "      <td>10.383142</td>\n",
       "      <td>13.596812</td>\n",
       "      <td>30.950851</td>\n",
       "    </tr>\n",
       "    <tr>\n",
       "      <th>1354</th>\n",
       "      <td>Virginia Foxx</td>\n",
       "      <td>T</td>\n",
       "      <td>Republican</td>\n",
       "      <td>House</td>\n",
       "      <td>NC</td>\n",
       "      <td>2023-1-31</td>\n",
       "      <td>2024-12-5</td>\n",
       "      <td>17.820059</td>\n",
       "      <td>23.531321</td>\n",
       "      <td>32.049620</td>\n",
       "    </tr>\n",
       "    <tr>\n",
       "      <th>1355</th>\n",
       "      <td>Virginia Foxx</td>\n",
       "      <td>TAK</td>\n",
       "      <td>Republican</td>\n",
       "      <td>House</td>\n",
       "      <td>NC</td>\n",
       "      <td>2023-2-15</td>\n",
       "      <td>2023-8-28</td>\n",
       "      <td>15.690000</td>\n",
       "      <td>15.280000</td>\n",
       "      <td>-2.613128</td>\n",
       "    </tr>\n",
       "  </tbody>\n",
       "</table>\n",
       "<p>1356 rows × 10 columns</p>\n",
       "</div>"
      ],
      "text/plain": [
       "               Name Ticker       Party Chamber State   Buy Date  Sell Date  \\\n",
       "0      Bill Keating   ABNB    Democrat   House    MA  2023-1-17  2024-5-16   \n",
       "1      Bill Keating     BA    Democrat   House    MA  2023-9-14   2024-2-7   \n",
       "2      Bill Keating    BAC    Democrat   House    MA  2024-1-17  2024-9-10   \n",
       "3      Bill Keating     GM    Democrat   House    MA  2023-6-26  2024-9-10   \n",
       "4      Bill Keating  GOOGL    Democrat   House    MA  2023-2-12  2024-5-16   \n",
       "...             ...    ...         ...     ...   ...        ...        ...   \n",
       "1351  Virginia Foxx   FLNG  Republican   House    NC   2023-1-3  2024-12-5   \n",
       "1352  Virginia Foxx     MO  Republican   House    NC  2023-1-16   2024-1-9   \n",
       "1353  Virginia Foxx    PAA  Republican   House    NC  2023-3-23  2023-10-2   \n",
       "1354  Virginia Foxx      T  Republican   House    NC  2023-1-31  2024-12-5   \n",
       "1355  Virginia Foxx    TAK  Republican   House    NC  2023-2-15  2023-8-28   \n",
       "\n",
       "       Buy Price  Sell Price  Trade Return %  \n",
       "0      99.915001  147.190002       47.315219  \n",
       "1     209.139999  211.919998        1.329253  \n",
       "2      30.738856   38.817738       26.282310  \n",
       "3      35.371884   44.605568       26.104586  \n",
       "4      94.995828  173.351212       82.482973  \n",
       "...          ...         ...             ...  \n",
       "1351   26.912435   22.639999      -15.875322  \n",
       "1352   37.561198   37.866795        0.813598  \n",
       "1353   10.383142   13.596812       30.950851  \n",
       "1354   17.820059   23.531321       32.049620  \n",
       "1355   15.690000   15.280000       -2.613128  \n",
       "\n",
       "[1356 rows x 10 columns]"
      ]
     },
     "execution_count": 7,
     "metadata": {},
     "output_type": "execute_result"
    }
   ],
   "source": [
    "df['Trade Return %'] = (df['Sell Price'] - df[\"Buy Price\"]) / df[\"Buy Price\"] * 100\n",
    "\n",
    "df"
   ]
  },
  {
   "cell_type": "markdown",
   "metadata": {},
   "source": [
    "## Get S&P Prices\n",
    "\n",
    "Open of Start Date and Close of End Date to allow for Same Day Gains"
   ]
  },
  {
   "cell_type": "markdown",
   "metadata": {},
   "source": [
    "#### Get Opening Price on the Day of Purchase"
   ]
  },
  {
   "cell_type": "code",
   "execution_count": 8,
   "metadata": {},
   "outputs": [
    {
     "name": "stderr",
     "output_type": "stream",
     "text": [
      "$^GSPC: possibly delisted; no price data found  (1d 2023-02-20 -> 2023-02-21)\n"
     ]
    },
    {
     "name": "stdout",
     "output_type": "stream",
     "text": [
      "retrying...\n",
      "--- The Retry Was Sucessfull---\n"
     ]
    },
    {
     "name": "stderr",
     "output_type": "stream",
     "text": [
      "$^GSPC: possibly delisted; no price data found  (1d 2023-04-07 -> 2023-04-10)\n"
     ]
    },
    {
     "name": "stdout",
     "output_type": "stream",
     "text": [
      "retrying...\n",
      "--- The Retry Was Sucessfull---\n"
     ]
    },
    {
     "name": "stderr",
     "output_type": "stream",
     "text": [
      "$^GSPC: possibly delisted; no price data found  (1d 2023-04-07 -> 2023-04-10)\n"
     ]
    },
    {
     "name": "stdout",
     "output_type": "stream",
     "text": [
      "retrying...\n",
      "--- The Retry Was Sucessfull---\n"
     ]
    },
    {
     "name": "stderr",
     "output_type": "stream",
     "text": [
      "$^GSPC: possibly delisted; no price data found  (1d 2023-04-07 -> 2023-04-10)\n"
     ]
    },
    {
     "name": "stdout",
     "output_type": "stream",
     "text": [
      "retrying...\n",
      "--- The Retry Was Sucessfull---\n"
     ]
    },
    {
     "name": "stderr",
     "output_type": "stream",
     "text": [
      "$^GSPC: possibly delisted; no price data found  (1d 2023-04-07 -> 2023-04-10)\n"
     ]
    },
    {
     "name": "stdout",
     "output_type": "stream",
     "text": [
      "retrying...\n",
      "--- The Retry Was Sucessfull---\n"
     ]
    },
    {
     "name": "stderr",
     "output_type": "stream",
     "text": [
      "$^GSPC: possibly delisted; no price data found  (1d 2023-04-07 -> 2023-04-10)\n"
     ]
    },
    {
     "name": "stdout",
     "output_type": "stream",
     "text": [
      "retrying...\n"
     ]
    },
    {
     "name": "stderr",
     "output_type": "stream",
     "text": [
      "$^GSPC: possibly delisted; no price data found  (1d 2023-04-07 -> 2023-04-10)\n"
     ]
    },
    {
     "name": "stdout",
     "output_type": "stream",
     "text": [
      "--- The Retry Was Sucessfull---\n",
      "retrying...\n"
     ]
    },
    {
     "name": "stderr",
     "output_type": "stream",
     "text": [
      "$^GSPC: possibly delisted; no price data found  (1d 2023-04-07 -> 2023-04-10)\n"
     ]
    },
    {
     "name": "stdout",
     "output_type": "stream",
     "text": [
      "--- The Retry Was Sucessfull---\n",
      "retrying...\n"
     ]
    },
    {
     "name": "stderr",
     "output_type": "stream",
     "text": [
      "$^GSPC: possibly delisted; no price data found  (1d 2023-04-07 -> 2023-04-10)\n"
     ]
    },
    {
     "name": "stdout",
     "output_type": "stream",
     "text": [
      "--- The Retry Was Sucessfull---\n",
      "retrying...\n",
      "--- The Retry Was Sucessfull---\n"
     ]
    },
    {
     "name": "stderr",
     "output_type": "stream",
     "text": [
      "$^GSPC: possibly delisted; no price data found  (1d 2023-04-07 -> 2023-04-10)\n"
     ]
    },
    {
     "name": "stdout",
     "output_type": "stream",
     "text": [
      "retrying...\n",
      "--- The Retry Was Sucessfull---\n"
     ]
    },
    {
     "name": "stderr",
     "output_type": "stream",
     "text": [
      "$^GSPC: possibly delisted; no price data found  (1d 2023-04-07 -> 2023-04-10)\n"
     ]
    },
    {
     "name": "stdout",
     "output_type": "stream",
     "text": [
      "retrying...\n",
      "--- The Retry Was Sucessfull---\n"
     ]
    },
    {
     "name": "stderr",
     "output_type": "stream",
     "text": [
      "$^GSPC: possibly delisted; no price data found  (1d 2023-04-07 -> 2023-04-10)\n"
     ]
    },
    {
     "name": "stdout",
     "output_type": "stream",
     "text": [
      "retrying...\n",
      "--- The Retry Was Sucessfull---\n"
     ]
    },
    {
     "name": "stderr",
     "output_type": "stream",
     "text": [
      "$^GSPC: possibly delisted; no price data found  (1d 2023-04-07 -> 2023-04-10)\n"
     ]
    },
    {
     "name": "stdout",
     "output_type": "stream",
     "text": [
      "retrying...\n",
      "--- The Retry Was Sucessfull---\n"
     ]
    },
    {
     "name": "stderr",
     "output_type": "stream",
     "text": [
      "$^GSPC: possibly delisted; no price data found  (1d 2023-04-07 -> 2023-04-10)\n"
     ]
    },
    {
     "name": "stdout",
     "output_type": "stream",
     "text": [
      "retrying...\n",
      "--- The Retry Was Sucessfull---\n"
     ]
    },
    {
     "name": "stderr",
     "output_type": "stream",
     "text": [
      "$^GSPC: possibly delisted; no price data found  (1d 2023-04-07 -> 2023-04-10)\n"
     ]
    },
    {
     "name": "stdout",
     "output_type": "stream",
     "text": [
      "retrying...\n",
      "--- The Retry Was Sucessfull---\n"
     ]
    },
    {
     "name": "stderr",
     "output_type": "stream",
     "text": [
      "$^GSPC: possibly delisted; no price data found  (1d 2023-04-07 -> 2023-04-10)\n"
     ]
    },
    {
     "name": "stdout",
     "output_type": "stream",
     "text": [
      "retrying...\n",
      "--- The Retry Was Sucessfull---\n"
     ]
    },
    {
     "name": "stderr",
     "output_type": "stream",
     "text": [
      "$^GSPC: possibly delisted; no price data found  (1d 2023-04-07 -> 2023-04-10)\n"
     ]
    },
    {
     "name": "stdout",
     "output_type": "stream",
     "text": [
      "retrying...\n",
      "--- The Retry Was Sucessfull---\n"
     ]
    },
    {
     "name": "stderr",
     "output_type": "stream",
     "text": [
      "$^GSPC: possibly delisted; no price data found  (1d 2023-04-07 -> 2023-04-10)\n"
     ]
    },
    {
     "name": "stdout",
     "output_type": "stream",
     "text": [
      "retrying...\n",
      "--- The Retry Was Sucessfull---\n"
     ]
    },
    {
     "name": "stderr",
     "output_type": "stream",
     "text": [
      "$^GSPC: possibly delisted; no price data found  (1d 2023-04-07 -> 2023-04-10)\n"
     ]
    },
    {
     "name": "stdout",
     "output_type": "stream",
     "text": [
      "retrying...\n",
      "--- The Retry Was Sucessfull---\n"
     ]
    },
    {
     "name": "stderr",
     "output_type": "stream",
     "text": [
      "$^GSPC: possibly delisted; no price data found  (1d 2023-04-07 -> 2023-04-10)\n"
     ]
    },
    {
     "name": "stdout",
     "output_type": "stream",
     "text": [
      "retrying...\n"
     ]
    },
    {
     "name": "stderr",
     "output_type": "stream",
     "text": [
      "$^GSPC: possibly delisted; no price data found  (1d 2023-04-07 -> 2023-04-10)\n"
     ]
    },
    {
     "name": "stdout",
     "output_type": "stream",
     "text": [
      "--- The Retry Was Sucessfull---\n",
      "retrying...\n",
      "--- The Retry Was Sucessfull---\n"
     ]
    },
    {
     "name": "stderr",
     "output_type": "stream",
     "text": [
      "$^GSPC: possibly delisted; no price data found  (1d 2023-04-07 -> 2023-04-10)\n"
     ]
    },
    {
     "name": "stdout",
     "output_type": "stream",
     "text": [
      "retrying...\n"
     ]
    },
    {
     "name": "stderr",
     "output_type": "stream",
     "text": [
      "$^GSPC: possibly delisted; no price data found  (1d 2023-04-07 -> 2023-04-10)\n"
     ]
    },
    {
     "name": "stdout",
     "output_type": "stream",
     "text": [
      "--- The Retry Was Sucessfull---\n",
      "retrying...\n",
      "--- The Retry Was Sucessfull---\n"
     ]
    },
    {
     "name": "stderr",
     "output_type": "stream",
     "text": [
      "$^GSPC: possibly delisted; no price data found  (1d 2023-04-07 -> 2023-04-10)\n"
     ]
    },
    {
     "name": "stdout",
     "output_type": "stream",
     "text": [
      "retrying...\n",
      "--- The Retry Was Sucessfull---\n"
     ]
    },
    {
     "name": "stderr",
     "output_type": "stream",
     "text": [
      "$^GSPC: possibly delisted; no price data found  (1d 2023-01-16 -> 2023-01-17)\n"
     ]
    },
    {
     "name": "stdout",
     "output_type": "stream",
     "text": [
      "retrying...\n",
      "--- The Retry Was Sucessfull---\n"
     ]
    },
    {
     "name": "stderr",
     "output_type": "stream",
     "text": [
      "$^GSPC: possibly delisted; no price data found  (1d 2023-05-29 -> 2023-05-30)\n"
     ]
    },
    {
     "name": "stdout",
     "output_type": "stream",
     "text": [
      "retrying...\n",
      "--- The Retry Was Sucessfull---\n"
     ]
    },
    {
     "name": "stderr",
     "output_type": "stream",
     "text": [
      "$^GSPC: possibly delisted; no price data found  (1d 2023-02-20 -> 2023-02-21)\n"
     ]
    },
    {
     "name": "stdout",
     "output_type": "stream",
     "text": [
      "retrying...\n"
     ]
    },
    {
     "name": "stderr",
     "output_type": "stream",
     "text": [
      "$^GSPC: possibly delisted; no price data found  (1d 2023-02-20 -> 2023-02-21)\n"
     ]
    },
    {
     "name": "stdout",
     "output_type": "stream",
     "text": [
      "--- The Retry Was Sucessfull---\n",
      "retrying...\n",
      "--- The Retry Was Sucessfull---\n"
     ]
    },
    {
     "name": "stderr",
     "output_type": "stream",
     "text": [
      "$^GSPC: possibly delisted; no price data found  (1d 2023-02-20 -> 2023-02-21)\n"
     ]
    },
    {
     "name": "stdout",
     "output_type": "stream",
     "text": [
      "retrying...\n",
      "--- The Retry Was Sucessfull---\n"
     ]
    },
    {
     "name": "stderr",
     "output_type": "stream",
     "text": [
      "$^GSPC: possibly delisted; no price data found  (1d 2024-07-04 -> 2024-07-05)\n"
     ]
    },
    {
     "name": "stdout",
     "output_type": "stream",
     "text": [
      "retrying...\n",
      "--- The Retry Was Sucessfull---\n"
     ]
    },
    {
     "name": "stderr",
     "output_type": "stream",
     "text": [
      "$^GSPC: possibly delisted; no price data found  (1d 2023-01-16 -> 2023-01-17)\n"
     ]
    },
    {
     "name": "stdout",
     "output_type": "stream",
     "text": [
      "retrying...\n",
      "--- The Retry Was Sucessfull---\n"
     ]
    },
    {
     "name": "stderr",
     "output_type": "stream",
     "text": [
      "$^GSPC: possibly delisted; no price data found  (1d 2023-01-16 -> 2023-01-17)\n"
     ]
    },
    {
     "name": "stdout",
     "output_type": "stream",
     "text": [
      "retrying...\n",
      "--- The Retry Was Sucessfull---\n"
     ]
    },
    {
     "name": "stderr",
     "output_type": "stream",
     "text": [
      "$^GSPC: possibly delisted; no price data found  (1d 2023-02-20 -> 2023-02-21)\n"
     ]
    },
    {
     "name": "stdout",
     "output_type": "stream",
     "text": [
      "retrying...\n",
      "--- The Retry Was Sucessfull---\n"
     ]
    },
    {
     "name": "stderr",
     "output_type": "stream",
     "text": [
      "$^GSPC: possibly delisted; no price data found  (1d 2023-01-16 -> 2023-01-17)\n"
     ]
    },
    {
     "name": "stdout",
     "output_type": "stream",
     "text": [
      "retrying...\n",
      "--- The Retry Was Sucessfull---\n"
     ]
    },
    {
     "name": "stderr",
     "output_type": "stream",
     "text": [
      "$^GSPC: possibly delisted; no price data found  (1d 2023-02-20 -> 2023-02-21)\n"
     ]
    },
    {
     "name": "stdout",
     "output_type": "stream",
     "text": [
      "retrying...\n",
      "--- The Retry Was Sucessfull---\n"
     ]
    },
    {
     "name": "stderr",
     "output_type": "stream",
     "text": [
      "$^GSPC: possibly delisted; no price data found  (1d 2024-06-19 -> 2024-06-20)\n"
     ]
    },
    {
     "name": "stdout",
     "output_type": "stream",
     "text": [
      "retrying...\n",
      "--- The Retry Was Sucessfull---\n"
     ]
    },
    {
     "name": "stderr",
     "output_type": "stream",
     "text": [
      "$^GSPC: possibly delisted; no price data found  (1d 2023-05-29 -> 2023-05-30)\n"
     ]
    },
    {
     "name": "stdout",
     "output_type": "stream",
     "text": [
      "retrying...\n",
      "--- The Retry Was Sucessfull---\n"
     ]
    },
    {
     "name": "stderr",
     "output_type": "stream",
     "text": [
      "$^GSPC: possibly delisted; no price data found  (1d 2024-01-01 -> 2024-01-02)\n"
     ]
    },
    {
     "name": "stdout",
     "output_type": "stream",
     "text": [
      "retrying...\n",
      "--- The Retry Was Sucessfull---\n"
     ]
    },
    {
     "name": "stderr",
     "output_type": "stream",
     "text": [
      "$^GSPC: possibly delisted; no price data found  (1d 2024-01-01 -> 2024-01-02)\n"
     ]
    },
    {
     "name": "stdout",
     "output_type": "stream",
     "text": [
      "retrying...\n",
      "--- The Retry Was Sucessfull---\n"
     ]
    },
    {
     "name": "stderr",
     "output_type": "stream",
     "text": [
      "$^GSPC: possibly delisted; no price data found  (1d 2023-01-16 -> 2023-01-17)\n"
     ]
    },
    {
     "name": "stdout",
     "output_type": "stream",
     "text": [
      "retrying...\n",
      "--- The Retry Was Sucessfull---\n"
     ]
    },
    {
     "name": "stderr",
     "output_type": "stream",
     "text": [
      "$^GSPC: possibly delisted; no price data found  (1d 2023-05-29 -> 2023-05-30)\n"
     ]
    },
    {
     "name": "stdout",
     "output_type": "stream",
     "text": [
      "retrying...\n",
      "--- The Retry Was Sucessfull---\n"
     ]
    },
    {
     "name": "stderr",
     "output_type": "stream",
     "text": [
      "$^GSPC: possibly delisted; no price data found  (1d 2024-06-19 -> 2024-06-20)\n"
     ]
    },
    {
     "name": "stdout",
     "output_type": "stream",
     "text": [
      "retrying...\n",
      "--- The Retry Was Sucessfull---\n"
     ]
    },
    {
     "name": "stderr",
     "output_type": "stream",
     "text": [
      "$^GSPC: possibly delisted; no price data found  (1d 2024-05-27 -> 2024-05-28)\n"
     ]
    },
    {
     "name": "stdout",
     "output_type": "stream",
     "text": [
      "retrying...\n",
      "--- The Retry Was Sucessfull---\n"
     ]
    },
    {
     "name": "stderr",
     "output_type": "stream",
     "text": [
      "$^GSPC: possibly delisted; no price data found  (1d 2024-06-19 -> 2024-06-20)\n"
     ]
    },
    {
     "name": "stdout",
     "output_type": "stream",
     "text": [
      "retrying...\n",
      "--- The Retry Was Sucessfull---\n"
     ]
    },
    {
     "name": "stderr",
     "output_type": "stream",
     "text": [
      "$^GSPC: possibly delisted; no price data found  (1d 2024-06-19 -> 2024-06-20)\n"
     ]
    },
    {
     "name": "stdout",
     "output_type": "stream",
     "text": [
      "retrying...\n",
      "--- The Retry Was Sucessfull---\n"
     ]
    },
    {
     "name": "stderr",
     "output_type": "stream",
     "text": [
      "$^GSPC: possibly delisted; no price data found  (1d 2024-06-19 -> 2024-06-20)\n"
     ]
    },
    {
     "name": "stdout",
     "output_type": "stream",
     "text": [
      "retrying...\n",
      "--- The Retry Was Sucessfull---\n"
     ]
    },
    {
     "name": "stderr",
     "output_type": "stream",
     "text": [
      "$^GSPC: possibly delisted; no price data found  (1d 2024-03-29 -> 2024-04-01)\n"
     ]
    },
    {
     "name": "stdout",
     "output_type": "stream",
     "text": [
      "retrying...\n",
      "--- The Retry Was Sucessfull---\n"
     ]
    },
    {
     "name": "stderr",
     "output_type": "stream",
     "text": [
      "$^GSPC: possibly delisted; no price data found  (1d 2024-06-19 -> 2024-06-20)\n"
     ]
    },
    {
     "name": "stdout",
     "output_type": "stream",
     "text": [
      "retrying...\n",
      "--- The Retry Was Sucessfull---\n"
     ]
    },
    {
     "name": "stderr",
     "output_type": "stream",
     "text": [
      "$^GSPC: possibly delisted; no price data found  (1d 2024-06-19 -> 2024-06-20)\n"
     ]
    },
    {
     "name": "stdout",
     "output_type": "stream",
     "text": [
      "retrying...\n",
      "--- The Retry Was Sucessfull---\n"
     ]
    },
    {
     "name": "stderr",
     "output_type": "stream",
     "text": [
      "$^GSPC: possibly delisted; no price data found  (1d 2023-07-04 -> 2023-07-05)\n"
     ]
    },
    {
     "name": "stdout",
     "output_type": "stream",
     "text": [
      "retrying...\n",
      "--- The Retry Was Sucessfull---\n"
     ]
    },
    {
     "name": "stderr",
     "output_type": "stream",
     "text": [
      "$^GSPC: possibly delisted; no price data found  (1d 2023-04-07 -> 2023-04-10)\n"
     ]
    },
    {
     "name": "stdout",
     "output_type": "stream",
     "text": [
      "retrying...\n",
      "--- The Retry Was Sucessfull---\n"
     ]
    },
    {
     "name": "stderr",
     "output_type": "stream",
     "text": [
      "$^GSPC: possibly delisted; no price data found  (1d 2023-01-02 -> 2023-01-03)\n"
     ]
    },
    {
     "name": "stdout",
     "output_type": "stream",
     "text": [
      "retrying...\n",
      "--- The Retry Was Sucessfull---\n"
     ]
    },
    {
     "name": "stderr",
     "output_type": "stream",
     "text": [
      "$^GSPC: possibly delisted; no price data found  (1d 2024-06-19 -> 2024-06-20)\n"
     ]
    },
    {
     "name": "stdout",
     "output_type": "stream",
     "text": [
      "retrying...\n",
      "--- The Retry Was Sucessfull---\n"
     ]
    },
    {
     "name": "stderr",
     "output_type": "stream",
     "text": [
      "$^GSPC: possibly delisted; no price data found  (1d 2023-05-29 -> 2023-05-30)\n"
     ]
    },
    {
     "name": "stdout",
     "output_type": "stream",
     "text": [
      "retrying...\n",
      "--- The Retry Was Sucessfull---\n"
     ]
    },
    {
     "name": "stderr",
     "output_type": "stream",
     "text": [
      "$^GSPC: possibly delisted; no price data found  (1d 2023-02-20 -> 2023-02-21)\n"
     ]
    },
    {
     "name": "stdout",
     "output_type": "stream",
     "text": [
      "retrying...\n",
      "--- The Retry Was Sucessfull---\n"
     ]
    },
    {
     "name": "stderr",
     "output_type": "stream",
     "text": [
      "$^GSPC: possibly delisted; no price data found  (1d 2023-02-20 -> 2023-02-21)\n"
     ]
    },
    {
     "name": "stdout",
     "output_type": "stream",
     "text": [
      "retrying...\n",
      "--- The Retry Was Sucessfull---\n"
     ]
    },
    {
     "name": "stderr",
     "output_type": "stream",
     "text": [
      "$^GSPC: possibly delisted; no price data found  (1d 2023-12-25 -> 2023-12-26)\n"
     ]
    },
    {
     "name": "stdout",
     "output_type": "stream",
     "text": [
      "retrying...\n",
      "--- The Retry Was Sucessfull---\n"
     ]
    },
    {
     "name": "stderr",
     "output_type": "stream",
     "text": [
      "$^GSPC: possibly delisted; no price data found  (1d 2024-01-15 -> 2024-01-16)\n"
     ]
    },
    {
     "name": "stdout",
     "output_type": "stream",
     "text": [
      "retrying...\n",
      "--- The Retry Was Sucessfull---\n"
     ]
    },
    {
     "name": "stderr",
     "output_type": "stream",
     "text": [
      "$^GSPC: possibly delisted; no price data found  (1d 2023-01-16 -> 2023-01-17)\n"
     ]
    },
    {
     "name": "stdout",
     "output_type": "stream",
     "text": [
      "retrying...\n",
      "--- The Retry Was Sucessfull---\n"
     ]
    },
    {
     "data": {
      "text/html": [
       "<div>\n",
       "<style scoped>\n",
       "    .dataframe tbody tr th:only-of-type {\n",
       "        vertical-align: middle;\n",
       "    }\n",
       "\n",
       "    .dataframe tbody tr th {\n",
       "        vertical-align: top;\n",
       "    }\n",
       "\n",
       "    .dataframe thead th {\n",
       "        text-align: right;\n",
       "    }\n",
       "</style>\n",
       "<table border=\"1\" class=\"dataframe\">\n",
       "  <thead>\n",
       "    <tr style=\"text-align: right;\">\n",
       "      <th></th>\n",
       "      <th>Name</th>\n",
       "      <th>Ticker</th>\n",
       "      <th>Party</th>\n",
       "      <th>Chamber</th>\n",
       "      <th>State</th>\n",
       "      <th>Buy Date</th>\n",
       "      <th>Sell Date</th>\n",
       "      <th>Buy Price</th>\n",
       "      <th>Sell Price</th>\n",
       "      <th>Trade Return %</th>\n",
       "      <th>Market Buy Price</th>\n",
       "    </tr>\n",
       "  </thead>\n",
       "  <tbody>\n",
       "    <tr>\n",
       "      <th>0</th>\n",
       "      <td>Bill Keating</td>\n",
       "      <td>ABNB</td>\n",
       "      <td>Democrat</td>\n",
       "      <td>House</td>\n",
       "      <td>MA</td>\n",
       "      <td>2023-1-17</td>\n",
       "      <td>2024-5-16</td>\n",
       "      <td>99.915001</td>\n",
       "      <td>147.190002</td>\n",
       "      <td>47.315219</td>\n",
       "      <td>3999.280029</td>\n",
       "    </tr>\n",
       "    <tr>\n",
       "      <th>1</th>\n",
       "      <td>Bill Keating</td>\n",
       "      <td>BA</td>\n",
       "      <td>Democrat</td>\n",
       "      <td>House</td>\n",
       "      <td>MA</td>\n",
       "      <td>2023-9-14</td>\n",
       "      <td>2024-2-7</td>\n",
       "      <td>209.139999</td>\n",
       "      <td>211.919998</td>\n",
       "      <td>1.329253</td>\n",
       "      <td>4487.779785</td>\n",
       "    </tr>\n",
       "    <tr>\n",
       "      <th>2</th>\n",
       "      <td>Bill Keating</td>\n",
       "      <td>BAC</td>\n",
       "      <td>Democrat</td>\n",
       "      <td>House</td>\n",
       "      <td>MA</td>\n",
       "      <td>2024-1-17</td>\n",
       "      <td>2024-9-10</td>\n",
       "      <td>30.738856</td>\n",
       "      <td>38.817738</td>\n",
       "      <td>26.282310</td>\n",
       "      <td>4739.129883</td>\n",
       "    </tr>\n",
       "    <tr>\n",
       "      <th>3</th>\n",
       "      <td>Bill Keating</td>\n",
       "      <td>GM</td>\n",
       "      <td>Democrat</td>\n",
       "      <td>House</td>\n",
       "      <td>MA</td>\n",
       "      <td>2023-6-26</td>\n",
       "      <td>2024-9-10</td>\n",
       "      <td>35.371884</td>\n",
       "      <td>44.605568</td>\n",
       "      <td>26.104586</td>\n",
       "      <td>4344.839844</td>\n",
       "    </tr>\n",
       "    <tr>\n",
       "      <th>4</th>\n",
       "      <td>Bill Keating</td>\n",
       "      <td>GOOGL</td>\n",
       "      <td>Democrat</td>\n",
       "      <td>House</td>\n",
       "      <td>MA</td>\n",
       "      <td>2023-2-12</td>\n",
       "      <td>2024-5-16</td>\n",
       "      <td>94.995828</td>\n",
       "      <td>173.351212</td>\n",
       "      <td>82.482973</td>\n",
       "      <td>4068.919922</td>\n",
       "    </tr>\n",
       "    <tr>\n",
       "      <th>...</th>\n",
       "      <td>...</td>\n",
       "      <td>...</td>\n",
       "      <td>...</td>\n",
       "      <td>...</td>\n",
       "      <td>...</td>\n",
       "      <td>...</td>\n",
       "      <td>...</td>\n",
       "      <td>...</td>\n",
       "      <td>...</td>\n",
       "      <td>...</td>\n",
       "      <td>...</td>\n",
       "    </tr>\n",
       "    <tr>\n",
       "      <th>1351</th>\n",
       "      <td>Virginia Foxx</td>\n",
       "      <td>FLNG</td>\n",
       "      <td>Republican</td>\n",
       "      <td>House</td>\n",
       "      <td>NC</td>\n",
       "      <td>2023-1-3</td>\n",
       "      <td>2024-12-5</td>\n",
       "      <td>26.912435</td>\n",
       "      <td>22.639999</td>\n",
       "      <td>-15.875322</td>\n",
       "      <td>3853.290039</td>\n",
       "    </tr>\n",
       "    <tr>\n",
       "      <th>1352</th>\n",
       "      <td>Virginia Foxx</td>\n",
       "      <td>MO</td>\n",
       "      <td>Republican</td>\n",
       "      <td>House</td>\n",
       "      <td>NC</td>\n",
       "      <td>2023-1-16</td>\n",
       "      <td>2024-1-9</td>\n",
       "      <td>37.561198</td>\n",
       "      <td>37.866795</td>\n",
       "      <td>0.813598</td>\n",
       "      <td>3960.600098</td>\n",
       "    </tr>\n",
       "    <tr>\n",
       "      <th>1353</th>\n",
       "      <td>Virginia Foxx</td>\n",
       "      <td>PAA</td>\n",
       "      <td>Republican</td>\n",
       "      <td>House</td>\n",
       "      <td>NC</td>\n",
       "      <td>2023-3-23</td>\n",
       "      <td>2023-10-2</td>\n",
       "      <td>10.383142</td>\n",
       "      <td>13.596812</td>\n",
       "      <td>30.950851</td>\n",
       "      <td>3959.209961</td>\n",
       "    </tr>\n",
       "    <tr>\n",
       "      <th>1354</th>\n",
       "      <td>Virginia Foxx</td>\n",
       "      <td>T</td>\n",
       "      <td>Republican</td>\n",
       "      <td>House</td>\n",
       "      <td>NC</td>\n",
       "      <td>2023-1-31</td>\n",
       "      <td>2024-12-5</td>\n",
       "      <td>17.820059</td>\n",
       "      <td>23.531321</td>\n",
       "      <td>32.049620</td>\n",
       "      <td>4020.850098</td>\n",
       "    </tr>\n",
       "    <tr>\n",
       "      <th>1355</th>\n",
       "      <td>Virginia Foxx</td>\n",
       "      <td>TAK</td>\n",
       "      <td>Republican</td>\n",
       "      <td>House</td>\n",
       "      <td>NC</td>\n",
       "      <td>2023-2-15</td>\n",
       "      <td>2023-8-28</td>\n",
       "      <td>15.690000</td>\n",
       "      <td>15.280000</td>\n",
       "      <td>-2.613128</td>\n",
       "      <td>4119.500000</td>\n",
       "    </tr>\n",
       "  </tbody>\n",
       "</table>\n",
       "<p>1356 rows × 11 columns</p>\n",
       "</div>"
      ],
      "text/plain": [
       "               Name Ticker       Party Chamber State   Buy Date  Sell Date  \\\n",
       "0      Bill Keating   ABNB    Democrat   House    MA  2023-1-17  2024-5-16   \n",
       "1      Bill Keating     BA    Democrat   House    MA  2023-9-14   2024-2-7   \n",
       "2      Bill Keating    BAC    Democrat   House    MA  2024-1-17  2024-9-10   \n",
       "3      Bill Keating     GM    Democrat   House    MA  2023-6-26  2024-9-10   \n",
       "4      Bill Keating  GOOGL    Democrat   House    MA  2023-2-12  2024-5-16   \n",
       "...             ...    ...         ...     ...   ...        ...        ...   \n",
       "1351  Virginia Foxx   FLNG  Republican   House    NC   2023-1-3  2024-12-5   \n",
       "1352  Virginia Foxx     MO  Republican   House    NC  2023-1-16   2024-1-9   \n",
       "1353  Virginia Foxx    PAA  Republican   House    NC  2023-3-23  2023-10-2   \n",
       "1354  Virginia Foxx      T  Republican   House    NC  2023-1-31  2024-12-5   \n",
       "1355  Virginia Foxx    TAK  Republican   House    NC  2023-2-15  2023-8-28   \n",
       "\n",
       "       Buy Price  Sell Price  Trade Return %  Market Buy Price  \n",
       "0      99.915001  147.190002       47.315219       3999.280029  \n",
       "1     209.139999  211.919998        1.329253       4487.779785  \n",
       "2      30.738856   38.817738       26.282310       4739.129883  \n",
       "3      35.371884   44.605568       26.104586       4344.839844  \n",
       "4      94.995828  173.351212       82.482973       4068.919922  \n",
       "...          ...         ...             ...               ...  \n",
       "1351   26.912435   22.639999      -15.875322       3853.290039  \n",
       "1352   37.561198   37.866795        0.813598       3960.600098  \n",
       "1353   10.383142   13.596812       30.950851       3959.209961  \n",
       "1354   17.820059   23.531321       32.049620       4020.850098  \n",
       "1355   15.690000   15.280000       -2.613128       4119.500000  \n",
       "\n",
       "[1356 rows x 11 columns]"
      ]
     },
     "execution_count": 8,
     "metadata": {},
     "output_type": "execute_result"
    }
   ],
   "source": [
    "df[\"Market Buy Price\"] = df.apply(lambda row: get_stock_price(\"^GSPC\", row[\"Buy Date\"], \"Open\"), axis=1)\n",
    "\n",
    "df"
   ]
  },
  {
   "cell_type": "markdown",
   "metadata": {},
   "source": [
    "#### Get Closing Price on Day of Sale"
   ]
  },
  {
   "cell_type": "code",
   "execution_count": 9,
   "metadata": {},
   "outputs": [
    {
     "name": "stderr",
     "output_type": "stream",
     "text": [
      "$^GSPC: possibly delisted; no price data found  (1d 2023-04-07 -> 2023-04-10)\n"
     ]
    },
    {
     "name": "stdout",
     "output_type": "stream",
     "text": [
      "retrying...\n",
      "--- The Retry Was Sucessfull---\n"
     ]
    },
    {
     "name": "stderr",
     "output_type": "stream",
     "text": [
      "$^GSPC: possibly delisted; no price data found  (1d 2023-04-07 -> 2023-04-10)\n"
     ]
    },
    {
     "name": "stdout",
     "output_type": "stream",
     "text": [
      "retrying...\n"
     ]
    },
    {
     "name": "stderr",
     "output_type": "stream",
     "text": [
      "$^GSPC: possibly delisted; no price data found  (1d 2023-04-07 -> 2023-04-10)\n"
     ]
    },
    {
     "name": "stdout",
     "output_type": "stream",
     "text": [
      "--- The Retry Was Sucessfull---\n",
      "retrying...\n",
      "--- The Retry Was Sucessfull---\n"
     ]
    },
    {
     "name": "stderr",
     "output_type": "stream",
     "text": [
      "$^GSPC: possibly delisted; no price data found  (1d 2023-04-07 -> 2023-04-10)\n"
     ]
    },
    {
     "name": "stdout",
     "output_type": "stream",
     "text": [
      "retrying...\n",
      "--- The Retry Was Sucessfull---\n"
     ]
    },
    {
     "name": "stderr",
     "output_type": "stream",
     "text": [
      "$^GSPC: possibly delisted; no price data found  (1d 2023-04-07 -> 2023-04-10)\n"
     ]
    },
    {
     "name": "stdout",
     "output_type": "stream",
     "text": [
      "retrying...\n",
      "--- The Retry Was Sucessfull---\n"
     ]
    },
    {
     "name": "stderr",
     "output_type": "stream",
     "text": [
      "$^GSPC: possibly delisted; no price data found  (1d 2023-04-07 -> 2023-04-10)\n"
     ]
    },
    {
     "name": "stdout",
     "output_type": "stream",
     "text": [
      "retrying...\n"
     ]
    },
    {
     "name": "stderr",
     "output_type": "stream",
     "text": [
      "$^GSPC: possibly delisted; no price data found  (1d 2023-04-07 -> 2023-04-10)\n"
     ]
    },
    {
     "name": "stdout",
     "output_type": "stream",
     "text": [
      "--- The Retry Was Sucessfull---\n",
      "retrying...\n",
      "--- The Retry Was Sucessfull---\n"
     ]
    },
    {
     "name": "stderr",
     "output_type": "stream",
     "text": [
      "$^GSPC: possibly delisted; no price data found  (1d 2023-04-07 -> 2023-04-10)\n"
     ]
    },
    {
     "name": "stdout",
     "output_type": "stream",
     "text": [
      "retrying...\n",
      "--- The Retry Was Sucessfull---\n"
     ]
    },
    {
     "name": "stderr",
     "output_type": "stream",
     "text": [
      "$^GSPC: possibly delisted; no price data found  (1d 2023-03-30 -> 2023-03-31)\n"
     ]
    },
    {
     "name": "stdout",
     "output_type": "stream",
     "text": [
      "retrying...\n"
     ]
    },
    {
     "name": "stderr",
     "output_type": "stream",
     "text": [
      "$^GSPC: possibly delisted; no price data found  (1d 2023-03-29 -> 2023-03-31)\n"
     ]
    },
    {
     "name": "stdout",
     "output_type": "stream",
     "text": [
      "retrying...\n",
      "--- The Retry Was Sucessfull---\n"
     ]
    },
    {
     "name": "stderr",
     "output_type": "stream",
     "text": [
      "$^GSPC: possibly delisted; no price data found  (1d 2023-04-07 -> 2023-04-10)\n"
     ]
    },
    {
     "name": "stdout",
     "output_type": "stream",
     "text": [
      "retrying...\n",
      "--- The Retry Was Sucessfull---\n"
     ]
    },
    {
     "name": "stderr",
     "output_type": "stream",
     "text": [
      "$^GSPC: possibly delisted; no price data found  (1d 2023-04-07 -> 2023-04-10)\n"
     ]
    },
    {
     "name": "stdout",
     "output_type": "stream",
     "text": [
      "retrying...\n"
     ]
    },
    {
     "name": "stderr",
     "output_type": "stream",
     "text": [
      "$^GSPC: possibly delisted; no price data found  (1d 2023-04-07 -> 2023-04-10)\n"
     ]
    },
    {
     "name": "stdout",
     "output_type": "stream",
     "text": [
      "--- The Retry Was Sucessfull---\n",
      "retrying...\n",
      "--- The Retry Was Sucessfull---\n"
     ]
    },
    {
     "name": "stderr",
     "output_type": "stream",
     "text": [
      "$^GSPC: possibly delisted; no price data found  (1d 2023-04-07 -> 2023-04-10)\n"
     ]
    },
    {
     "name": "stdout",
     "output_type": "stream",
     "text": [
      "retrying...\n",
      "--- The Retry Was Sucessfull---\n"
     ]
    },
    {
     "name": "stderr",
     "output_type": "stream",
     "text": [
      "$^GSPC: possibly delisted; no price data found  (1d 2023-04-07 -> 2023-04-10)\n"
     ]
    },
    {
     "name": "stdout",
     "output_type": "stream",
     "text": [
      "retrying...\n",
      "--- The Retry Was Sucessfull---\n"
     ]
    },
    {
     "name": "stderr",
     "output_type": "stream",
     "text": [
      "$^GSPC: possibly delisted; no price data found  (1d 2023-04-07 -> 2023-04-10)\n"
     ]
    },
    {
     "name": "stdout",
     "output_type": "stream",
     "text": [
      "retrying...\n",
      "--- The Retry Was Sucessfull---\n"
     ]
    },
    {
     "name": "stderr",
     "output_type": "stream",
     "text": [
      "$^GSPC: possibly delisted; no price data found  (1d 2023-04-07 -> 2023-04-10)\n"
     ]
    },
    {
     "name": "stdout",
     "output_type": "stream",
     "text": [
      "retrying...\n",
      "--- The Retry Was Sucessfull---\n"
     ]
    },
    {
     "name": "stderr",
     "output_type": "stream",
     "text": [
      "$^GSPC: possibly delisted; no price data found  (1d 2023-04-07 -> 2023-04-10)\n"
     ]
    },
    {
     "name": "stdout",
     "output_type": "stream",
     "text": [
      "retrying...\n",
      "--- The Retry Was Sucessfull---\n"
     ]
    },
    {
     "name": "stderr",
     "output_type": "stream",
     "text": [
      "$^GSPC: possibly delisted; no price data found  (1d 2023-04-07 -> 2023-04-10)\n"
     ]
    },
    {
     "name": "stdout",
     "output_type": "stream",
     "text": [
      "retrying...\n",
      "--- The Retry Was Sucessfull---\n"
     ]
    },
    {
     "name": "stderr",
     "output_type": "stream",
     "text": [
      "$^GSPC: possibly delisted; no price data found  (1d 2023-04-07 -> 2023-04-10)\n"
     ]
    },
    {
     "name": "stdout",
     "output_type": "stream",
     "text": [
      "retrying...\n",
      "--- The Retry Was Sucessfull---\n"
     ]
    },
    {
     "name": "stderr",
     "output_type": "stream",
     "text": [
      "$^GSPC: possibly delisted; no price data found  (1d 2023-04-07 -> 2023-04-10)\n"
     ]
    },
    {
     "name": "stdout",
     "output_type": "stream",
     "text": [
      "retrying...\n",
      "--- The Retry Was Sucessfull---\n"
     ]
    },
    {
     "name": "stderr",
     "output_type": "stream",
     "text": [
      "$^GSPC: possibly delisted; no price data found  (1d 2023-04-07 -> 2023-04-10)\n"
     ]
    },
    {
     "name": "stdout",
     "output_type": "stream",
     "text": [
      "retrying...\n",
      "--- The Retry Was Sucessfull---\n"
     ]
    },
    {
     "name": "stderr",
     "output_type": "stream",
     "text": [
      "$^GSPC: possibly delisted; no price data found  (1d 2023-04-07 -> 2023-04-10)\n"
     ]
    },
    {
     "name": "stdout",
     "output_type": "stream",
     "text": [
      "retrying...\n",
      "--- The Retry Was Sucessfull---\n"
     ]
    },
    {
     "name": "stderr",
     "output_type": "stream",
     "text": [
      "$^GSPC: possibly delisted; no price data found  (1d 2023-05-29 -> 2023-05-30)\n"
     ]
    },
    {
     "name": "stdout",
     "output_type": "stream",
     "text": [
      "retrying...\n",
      "--- The Retry Was Sucessfull---\n"
     ]
    },
    {
     "name": "stderr",
     "output_type": "stream",
     "text": [
      "$^GSPC: possibly delisted; no price data found  (1d 2024-06-19 -> 2024-06-20)\n"
     ]
    },
    {
     "name": "stdout",
     "output_type": "stream",
     "text": [
      "retrying...\n",
      "--- The Retry Was Sucessfull---\n"
     ]
    },
    {
     "name": "stderr",
     "output_type": "stream",
     "text": [
      "$^GSPC: possibly delisted; no price data found  (1d 2024-07-04 -> 2024-07-05)\n"
     ]
    },
    {
     "name": "stdout",
     "output_type": "stream",
     "text": [
      "retrying...\n"
     ]
    },
    {
     "name": "stderr",
     "output_type": "stream",
     "text": [
      "$^GSPC: possibly delisted; no price data found  (1d 2024-07-04 -> 2024-07-05)\n"
     ]
    },
    {
     "name": "stdout",
     "output_type": "stream",
     "text": [
      "--- The Retry Was Sucessfull---\n",
      "retrying...\n"
     ]
    },
    {
     "name": "stderr",
     "output_type": "stream",
     "text": [
      "$^GSPC: possibly delisted; no price data found  (1d 2024-07-04 -> 2024-07-05)\n"
     ]
    },
    {
     "name": "stdout",
     "output_type": "stream",
     "text": [
      "--- The Retry Was Sucessfull---\n",
      "retrying...\n",
      "--- The Retry Was Sucessfull---\n"
     ]
    },
    {
     "name": "stderr",
     "output_type": "stream",
     "text": [
      "$^GSPC: possibly delisted; no price data found  (1d 2024-07-04 -> 2024-07-05)\n"
     ]
    },
    {
     "name": "stdout",
     "output_type": "stream",
     "text": [
      "retrying...\n"
     ]
    },
    {
     "name": "stderr",
     "output_type": "stream",
     "text": [
      "$^GSPC: possibly delisted; no price data found  (1d 2024-07-04 -> 2024-07-05)\n"
     ]
    },
    {
     "name": "stdout",
     "output_type": "stream",
     "text": [
      "--- The Retry Was Sucessfull---\n",
      "retrying...\n",
      "--- The Retry Was Sucessfull---\n"
     ]
    },
    {
     "name": "stderr",
     "output_type": "stream",
     "text": [
      "$^GSPC: possibly delisted; no price data found  (1d 2024-07-04 -> 2024-07-05)\n"
     ]
    },
    {
     "name": "stdout",
     "output_type": "stream",
     "text": [
      "retrying...\n"
     ]
    },
    {
     "name": "stderr",
     "output_type": "stream",
     "text": [
      "$^GSPC: possibly delisted; no price data found  (1d 2024-07-04 -> 2024-07-05)\n"
     ]
    },
    {
     "name": "stdout",
     "output_type": "stream",
     "text": [
      "--- The Retry Was Sucessfull---\n",
      "retrying...\n",
      "--- The Retry Was Sucessfull---\n"
     ]
    },
    {
     "name": "stderr",
     "output_type": "stream",
     "text": [
      "$^GSPC: possibly delisted; no price data found  (1d 2024-07-04 -> 2024-07-05)\n"
     ]
    },
    {
     "name": "stdout",
     "output_type": "stream",
     "text": [
      "retrying...\n",
      "--- The Retry Was Sucessfull---\n"
     ]
    },
    {
     "name": "stderr",
     "output_type": "stream",
     "text": [
      "$^GSPC: possibly delisted; no price data found  (1d 2024-05-01 -> 2024-05-02)\n",
      "$^GSPC: possibly delisted; no price data found  (1d 2024-04-30 -> 2024-05-02)\n"
     ]
    },
    {
     "name": "stdout",
     "output_type": "stream",
     "text": [
      "retrying...\n"
     ]
    },
    {
     "name": "stderr",
     "output_type": "stream",
     "text": [
      "$^GSPC: possibly delisted; no price data found  (1d 2024-04-29 -> 2024-05-02)\n"
     ]
    },
    {
     "name": "stdout",
     "output_type": "stream",
     "text": [
      "retrying...\n"
     ]
    },
    {
     "name": "stderr",
     "output_type": "stream",
     "text": [
      "$^GSPC: possibly delisted; no price data found  (1d 2024-04-26 -> 2024-05-02)\n"
     ]
    },
    {
     "name": "stdout",
     "output_type": "stream",
     "text": [
      "retrying...\n",
      "retrying...\n",
      "--- The Retry Was Sucessfull---\n"
     ]
    },
    {
     "name": "stderr",
     "output_type": "stream",
     "text": [
      "$^GSPC: possibly delisted; no price data found  (1d 2024-07-04 -> 2024-07-05)\n"
     ]
    },
    {
     "name": "stdout",
     "output_type": "stream",
     "text": [
      "retrying...\n",
      "--- The Retry Was Sucessfull---\n"
     ]
    },
    {
     "name": "stderr",
     "output_type": "stream",
     "text": [
      "$^GSPC: possibly delisted; no price data found  (1d 2024-07-04 -> 2024-07-05)\n"
     ]
    },
    {
     "name": "stdout",
     "output_type": "stream",
     "text": [
      "retrying...\n",
      "--- The Retry Was Sucessfull---\n"
     ]
    },
    {
     "name": "stderr",
     "output_type": "stream",
     "text": [
      "$^GSPC: possibly delisted; no price data found  (1d 2024-09-02 -> 2024-09-03)\n"
     ]
    },
    {
     "name": "stdout",
     "output_type": "stream",
     "text": [
      "retrying...\n",
      "--- The Retry Was Sucessfull---\n"
     ]
    },
    {
     "name": "stderr",
     "output_type": "stream",
     "text": [
      "$^GSPC: possibly delisted; no price data found  (1d 2024-01-01 -> 2024-01-02)\n"
     ]
    },
    {
     "name": "stdout",
     "output_type": "stream",
     "text": [
      "retrying...\n"
     ]
    },
    {
     "name": "stderr",
     "output_type": "stream",
     "text": [
      "$^GSPC: possibly delisted; no price data found  (1d 2024-01-01 -> 2024-01-02)\n"
     ]
    },
    {
     "name": "stdout",
     "output_type": "stream",
     "text": [
      "--- The Retry Was Sucessfull---\n",
      "retrying...\n",
      "--- The Retry Was Sucessfull---\n"
     ]
    },
    {
     "name": "stderr",
     "output_type": "stream",
     "text": [
      "$^GSPC: possibly delisted; no price data found  (1d 2024-09-02 -> 2024-09-03)\n"
     ]
    },
    {
     "name": "stdout",
     "output_type": "stream",
     "text": [
      "retrying...\n",
      "--- The Retry Was Sucessfull---\n"
     ]
    },
    {
     "name": "stderr",
     "output_type": "stream",
     "text": [
      "$^GSPC: possibly delisted; no price data found  (1d 2023-07-04 -> 2023-07-05)\n"
     ]
    },
    {
     "name": "stdout",
     "output_type": "stream",
     "text": [
      "retrying...\n",
      "--- The Retry Was Sucessfull---\n"
     ]
    },
    {
     "name": "stderr",
     "output_type": "stream",
     "text": [
      "$^GSPC: possibly delisted; no price data found  (1d 2024-06-06 -> 2024-06-07)\n"
     ]
    },
    {
     "name": "stdout",
     "output_type": "stream",
     "text": [
      "retrying...\n"
     ]
    },
    {
     "name": "stderr",
     "output_type": "stream",
     "text": [
      "$^GSPC: possibly delisted; no price data found  (1d 2024-06-05 -> 2024-06-07)\n"
     ]
    },
    {
     "name": "stdout",
     "output_type": "stream",
     "text": [
      "retrying...\n"
     ]
    },
    {
     "name": "stderr",
     "output_type": "stream",
     "text": [
      "$^GSPC: possibly delisted; no price data found  (1d 2024-06-04 -> 2024-06-07)\n",
      "$^GSPC: possibly delisted; no price data found  (1d 2024-06-03 -> 2024-06-07)\n"
     ]
    },
    {
     "name": "stdout",
     "output_type": "stream",
     "text": [
      "retrying...\n"
     ]
    },
    {
     "name": "stderr",
     "output_type": "stream",
     "text": [
      "$^GSPC: possibly delisted; no price data found  (1d 2024-05-31 -> 2024-06-07)\n"
     ]
    },
    {
     "name": "stdout",
     "output_type": "stream",
     "text": [
      "retrying...\n"
     ]
    },
    {
     "name": "stderr",
     "output_type": "stream",
     "text": [
      "$^GSPC: possibly delisted; no price data found  (1d 2024-05-28 -> 2024-05-29)\n"
     ]
    },
    {
     "name": "stdout",
     "output_type": "stream",
     "text": [
      "retrying...\n",
      "retrying...\n",
      "--- The Retry Was Sucessfull---\n"
     ]
    },
    {
     "name": "stderr",
     "output_type": "stream",
     "text": [
      "$^GSPC: possibly delisted; no price data found  (1d 2024-05-27 -> 2024-05-28)\n"
     ]
    },
    {
     "name": "stdout",
     "output_type": "stream",
     "text": [
      "retrying...\n",
      "--- The Retry Was Sucessfull---\n"
     ]
    },
    {
     "name": "stderr",
     "output_type": "stream",
     "text": [
      "$^GSPC: possibly delisted; no price data found  (1d 2024-09-02 -> 2024-09-03)\n"
     ]
    },
    {
     "name": "stdout",
     "output_type": "stream",
     "text": [
      "retrying...\n",
      "--- The Retry Was Sucessfull---\n"
     ]
    },
    {
     "name": "stderr",
     "output_type": "stream",
     "text": [
      "$^GSPC: possibly delisted; no price data found  (1d 2023-04-07 -> 2023-04-10)\n"
     ]
    },
    {
     "name": "stdout",
     "output_type": "stream",
     "text": [
      "retrying...\n",
      "--- The Retry Was Sucessfull---\n"
     ]
    },
    {
     "name": "stderr",
     "output_type": "stream",
     "text": [
      "$^GSPC: possibly delisted; no price data found  (1d 2023-04-07 -> 2023-04-10)\n"
     ]
    },
    {
     "name": "stdout",
     "output_type": "stream",
     "text": [
      "retrying...\n",
      "--- The Retry Was Sucessfull---\n"
     ]
    },
    {
     "name": "stderr",
     "output_type": "stream",
     "text": [
      "$^GSPC: possibly delisted; no price data found  (1d 2024-05-27 -> 2024-05-28)\n"
     ]
    },
    {
     "name": "stdout",
     "output_type": "stream",
     "text": [
      "retrying...\n",
      "--- The Retry Was Sucessfull---\n"
     ]
    },
    {
     "name": "stderr",
     "output_type": "stream",
     "text": [
      "$^GSPC: possibly delisted; no price data found  (1d 2023-04-07 -> 2023-04-10)\n"
     ]
    },
    {
     "name": "stdout",
     "output_type": "stream",
     "text": [
      "retrying...\n",
      "--- The Retry Was Sucessfull---\n"
     ]
    },
    {
     "name": "stderr",
     "output_type": "stream",
     "text": [
      "$^GSPC: possibly delisted; no price data found  (1d 2024-05-27 -> 2024-05-28)\n"
     ]
    },
    {
     "name": "stdout",
     "output_type": "stream",
     "text": [
      "retrying...\n",
      "--- The Retry Was Sucessfull---\n"
     ]
    },
    {
     "name": "stderr",
     "output_type": "stream",
     "text": [
      "$^GSPC: possibly delisted; no price data found  (1d 2024-05-27 -> 2024-05-28)\n"
     ]
    },
    {
     "name": "stdout",
     "output_type": "stream",
     "text": [
      "retrying...\n",
      "--- The Retry Was Sucessfull---\n"
     ]
    },
    {
     "name": "stderr",
     "output_type": "stream",
     "text": [
      "$^GSPC: possibly delisted; no price data found  (1d 2023-04-07 -> 2023-04-10)\n"
     ]
    },
    {
     "name": "stdout",
     "output_type": "stream",
     "text": [
      "retrying...\n"
     ]
    },
    {
     "name": "stderr",
     "output_type": "stream",
     "text": [
      "$^GSPC: possibly delisted; no price data found  (1d 2024-05-27 -> 2024-05-28)\n"
     ]
    },
    {
     "name": "stdout",
     "output_type": "stream",
     "text": [
      "--- The Retry Was Sucessfull---\n",
      "retrying...\n",
      "--- The Retry Was Sucessfull---\n"
     ]
    },
    {
     "name": "stderr",
     "output_type": "stream",
     "text": [
      "$^GSPC: possibly delisted; no price data found  (1d 2023-04-07 -> 2023-04-10)\n"
     ]
    },
    {
     "name": "stdout",
     "output_type": "stream",
     "text": [
      "retrying...\n",
      "--- The Retry Was Sucessfull---\n"
     ]
    },
    {
     "name": "stderr",
     "output_type": "stream",
     "text": [
      "$^GSPC: possibly delisted; no price data found  (1d 2023-12-25 -> 2023-12-26)\n"
     ]
    },
    {
     "name": "stdout",
     "output_type": "stream",
     "text": [
      "retrying...\n",
      "--- The Retry Was Sucessfull---\n"
     ]
    },
    {
     "data": {
      "text/html": [
       "<div>\n",
       "<style scoped>\n",
       "    .dataframe tbody tr th:only-of-type {\n",
       "        vertical-align: middle;\n",
       "    }\n",
       "\n",
       "    .dataframe tbody tr th {\n",
       "        vertical-align: top;\n",
       "    }\n",
       "\n",
       "    .dataframe thead th {\n",
       "        text-align: right;\n",
       "    }\n",
       "</style>\n",
       "<table border=\"1\" class=\"dataframe\">\n",
       "  <thead>\n",
       "    <tr style=\"text-align: right;\">\n",
       "      <th></th>\n",
       "      <th>Name</th>\n",
       "      <th>Ticker</th>\n",
       "      <th>Party</th>\n",
       "      <th>Chamber</th>\n",
       "      <th>State</th>\n",
       "      <th>Buy Date</th>\n",
       "      <th>Sell Date</th>\n",
       "      <th>Buy Price</th>\n",
       "      <th>Sell Price</th>\n",
       "      <th>Trade Return %</th>\n",
       "      <th>Market Buy Price</th>\n",
       "      <th>Market Sell Price</th>\n",
       "    </tr>\n",
       "  </thead>\n",
       "  <tbody>\n",
       "    <tr>\n",
       "      <th>0</th>\n",
       "      <td>Bill Keating</td>\n",
       "      <td>ABNB</td>\n",
       "      <td>Democrat</td>\n",
       "      <td>House</td>\n",
       "      <td>MA</td>\n",
       "      <td>2023-1-17</td>\n",
       "      <td>2024-5-16</td>\n",
       "      <td>99.915001</td>\n",
       "      <td>147.190002</td>\n",
       "      <td>47.315219</td>\n",
       "      <td>3999.280029</td>\n",
       "      <td>5297.100098</td>\n",
       "    </tr>\n",
       "    <tr>\n",
       "      <th>1</th>\n",
       "      <td>Bill Keating</td>\n",
       "      <td>BA</td>\n",
       "      <td>Democrat</td>\n",
       "      <td>House</td>\n",
       "      <td>MA</td>\n",
       "      <td>2023-9-14</td>\n",
       "      <td>2024-2-7</td>\n",
       "      <td>209.139999</td>\n",
       "      <td>211.919998</td>\n",
       "      <td>1.329253</td>\n",
       "      <td>4487.779785</td>\n",
       "      <td>4995.060059</td>\n",
       "    </tr>\n",
       "    <tr>\n",
       "      <th>2</th>\n",
       "      <td>Bill Keating</td>\n",
       "      <td>BAC</td>\n",
       "      <td>Democrat</td>\n",
       "      <td>House</td>\n",
       "      <td>MA</td>\n",
       "      <td>2024-1-17</td>\n",
       "      <td>2024-9-10</td>\n",
       "      <td>30.738856</td>\n",
       "      <td>38.817738</td>\n",
       "      <td>26.282310</td>\n",
       "      <td>4739.129883</td>\n",
       "      <td>5495.520020</td>\n",
       "    </tr>\n",
       "    <tr>\n",
       "      <th>3</th>\n",
       "      <td>Bill Keating</td>\n",
       "      <td>GM</td>\n",
       "      <td>Democrat</td>\n",
       "      <td>House</td>\n",
       "      <td>MA</td>\n",
       "      <td>2023-6-26</td>\n",
       "      <td>2024-9-10</td>\n",
       "      <td>35.371884</td>\n",
       "      <td>44.605568</td>\n",
       "      <td>26.104586</td>\n",
       "      <td>4344.839844</td>\n",
       "      <td>5495.520020</td>\n",
       "    </tr>\n",
       "    <tr>\n",
       "      <th>4</th>\n",
       "      <td>Bill Keating</td>\n",
       "      <td>GOOGL</td>\n",
       "      <td>Democrat</td>\n",
       "      <td>House</td>\n",
       "      <td>MA</td>\n",
       "      <td>2023-2-12</td>\n",
       "      <td>2024-5-16</td>\n",
       "      <td>94.995828</td>\n",
       "      <td>173.351212</td>\n",
       "      <td>82.482973</td>\n",
       "      <td>4068.919922</td>\n",
       "      <td>5297.100098</td>\n",
       "    </tr>\n",
       "    <tr>\n",
       "      <th>...</th>\n",
       "      <td>...</td>\n",
       "      <td>...</td>\n",
       "      <td>...</td>\n",
       "      <td>...</td>\n",
       "      <td>...</td>\n",
       "      <td>...</td>\n",
       "      <td>...</td>\n",
       "      <td>...</td>\n",
       "      <td>...</td>\n",
       "      <td>...</td>\n",
       "      <td>...</td>\n",
       "      <td>...</td>\n",
       "    </tr>\n",
       "    <tr>\n",
       "      <th>1351</th>\n",
       "      <td>Virginia Foxx</td>\n",
       "      <td>FLNG</td>\n",
       "      <td>Republican</td>\n",
       "      <td>House</td>\n",
       "      <td>NC</td>\n",
       "      <td>2023-1-3</td>\n",
       "      <td>2024-12-5</td>\n",
       "      <td>26.912435</td>\n",
       "      <td>22.639999</td>\n",
       "      <td>-15.875322</td>\n",
       "      <td>3853.290039</td>\n",
       "      <td>6075.109863</td>\n",
       "    </tr>\n",
       "    <tr>\n",
       "      <th>1352</th>\n",
       "      <td>Virginia Foxx</td>\n",
       "      <td>MO</td>\n",
       "      <td>Republican</td>\n",
       "      <td>House</td>\n",
       "      <td>NC</td>\n",
       "      <td>2023-1-16</td>\n",
       "      <td>2024-1-9</td>\n",
       "      <td>37.561198</td>\n",
       "      <td>37.866795</td>\n",
       "      <td>0.813598</td>\n",
       "      <td>3960.600098</td>\n",
       "      <td>4756.500000</td>\n",
       "    </tr>\n",
       "    <tr>\n",
       "      <th>1353</th>\n",
       "      <td>Virginia Foxx</td>\n",
       "      <td>PAA</td>\n",
       "      <td>Republican</td>\n",
       "      <td>House</td>\n",
       "      <td>NC</td>\n",
       "      <td>2023-3-23</td>\n",
       "      <td>2023-10-2</td>\n",
       "      <td>10.383142</td>\n",
       "      <td>13.596812</td>\n",
       "      <td>30.950851</td>\n",
       "      <td>3959.209961</td>\n",
       "      <td>4288.390137</td>\n",
       "    </tr>\n",
       "    <tr>\n",
       "      <th>1354</th>\n",
       "      <td>Virginia Foxx</td>\n",
       "      <td>T</td>\n",
       "      <td>Republican</td>\n",
       "      <td>House</td>\n",
       "      <td>NC</td>\n",
       "      <td>2023-1-31</td>\n",
       "      <td>2024-12-5</td>\n",
       "      <td>17.820059</td>\n",
       "      <td>23.531321</td>\n",
       "      <td>32.049620</td>\n",
       "      <td>4020.850098</td>\n",
       "      <td>6075.109863</td>\n",
       "    </tr>\n",
       "    <tr>\n",
       "      <th>1355</th>\n",
       "      <td>Virginia Foxx</td>\n",
       "      <td>TAK</td>\n",
       "      <td>Republican</td>\n",
       "      <td>House</td>\n",
       "      <td>NC</td>\n",
       "      <td>2023-2-15</td>\n",
       "      <td>2023-8-28</td>\n",
       "      <td>15.690000</td>\n",
       "      <td>15.280000</td>\n",
       "      <td>-2.613128</td>\n",
       "      <td>4119.500000</td>\n",
       "      <td>4433.310059</td>\n",
       "    </tr>\n",
       "  </tbody>\n",
       "</table>\n",
       "<p>1356 rows × 12 columns</p>\n",
       "</div>"
      ],
      "text/plain": [
       "               Name Ticker       Party Chamber State   Buy Date  Sell Date  \\\n",
       "0      Bill Keating   ABNB    Democrat   House    MA  2023-1-17  2024-5-16   \n",
       "1      Bill Keating     BA    Democrat   House    MA  2023-9-14   2024-2-7   \n",
       "2      Bill Keating    BAC    Democrat   House    MA  2024-1-17  2024-9-10   \n",
       "3      Bill Keating     GM    Democrat   House    MA  2023-6-26  2024-9-10   \n",
       "4      Bill Keating  GOOGL    Democrat   House    MA  2023-2-12  2024-5-16   \n",
       "...             ...    ...         ...     ...   ...        ...        ...   \n",
       "1351  Virginia Foxx   FLNG  Republican   House    NC   2023-1-3  2024-12-5   \n",
       "1352  Virginia Foxx     MO  Republican   House    NC  2023-1-16   2024-1-9   \n",
       "1353  Virginia Foxx    PAA  Republican   House    NC  2023-3-23  2023-10-2   \n",
       "1354  Virginia Foxx      T  Republican   House    NC  2023-1-31  2024-12-5   \n",
       "1355  Virginia Foxx    TAK  Republican   House    NC  2023-2-15  2023-8-28   \n",
       "\n",
       "       Buy Price  Sell Price  Trade Return %  Market Buy Price  \\\n",
       "0      99.915001  147.190002       47.315219       3999.280029   \n",
       "1     209.139999  211.919998        1.329253       4487.779785   \n",
       "2      30.738856   38.817738       26.282310       4739.129883   \n",
       "3      35.371884   44.605568       26.104586       4344.839844   \n",
       "4      94.995828  173.351212       82.482973       4068.919922   \n",
       "...          ...         ...             ...               ...   \n",
       "1351   26.912435   22.639999      -15.875322       3853.290039   \n",
       "1352   37.561198   37.866795        0.813598       3960.600098   \n",
       "1353   10.383142   13.596812       30.950851       3959.209961   \n",
       "1354   17.820059   23.531321       32.049620       4020.850098   \n",
       "1355   15.690000   15.280000       -2.613128       4119.500000   \n",
       "\n",
       "      Market Sell Price  \n",
       "0           5297.100098  \n",
       "1           4995.060059  \n",
       "2           5495.520020  \n",
       "3           5495.520020  \n",
       "4           5297.100098  \n",
       "...                 ...  \n",
       "1351        6075.109863  \n",
       "1352        4756.500000  \n",
       "1353        4288.390137  \n",
       "1354        6075.109863  \n",
       "1355        4433.310059  \n",
       "\n",
       "[1356 rows x 12 columns]"
      ]
     },
     "execution_count": 9,
     "metadata": {},
     "output_type": "execute_result"
    }
   ],
   "source": [
    "df[\"Market Sell Price\"] = df.apply(lambda row: get_stock_price(\"^GSPC\", row[\"Sell Date\"], \"Close\"), axis=1)\n",
    "\n",
    "df"
   ]
  },
  {
   "cell_type": "markdown",
   "metadata": {},
   "source": [
    "#### Calculate Trade Return %"
   ]
  },
  {
   "cell_type": "code",
   "execution_count": 10,
   "metadata": {},
   "outputs": [
    {
     "data": {
      "text/html": [
       "<div>\n",
       "<style scoped>\n",
       "    .dataframe tbody tr th:only-of-type {\n",
       "        vertical-align: middle;\n",
       "    }\n",
       "\n",
       "    .dataframe tbody tr th {\n",
       "        vertical-align: top;\n",
       "    }\n",
       "\n",
       "    .dataframe thead th {\n",
       "        text-align: right;\n",
       "    }\n",
       "</style>\n",
       "<table border=\"1\" class=\"dataframe\">\n",
       "  <thead>\n",
       "    <tr style=\"text-align: right;\">\n",
       "      <th></th>\n",
       "      <th>Name</th>\n",
       "      <th>Ticker</th>\n",
       "      <th>Party</th>\n",
       "      <th>Chamber</th>\n",
       "      <th>State</th>\n",
       "      <th>Buy Date</th>\n",
       "      <th>Sell Date</th>\n",
       "      <th>Buy Price</th>\n",
       "      <th>Sell Price</th>\n",
       "      <th>Trade Return %</th>\n",
       "      <th>Market Buy Price</th>\n",
       "      <th>Market Sell Price</th>\n",
       "      <th>Market Return %</th>\n",
       "    </tr>\n",
       "  </thead>\n",
       "  <tbody>\n",
       "    <tr>\n",
       "      <th>0</th>\n",
       "      <td>Bill Keating</td>\n",
       "      <td>ABNB</td>\n",
       "      <td>Democrat</td>\n",
       "      <td>House</td>\n",
       "      <td>MA</td>\n",
       "      <td>2023-1-17</td>\n",
       "      <td>2024-5-16</td>\n",
       "      <td>99.915001</td>\n",
       "      <td>147.190002</td>\n",
       "      <td>47.315219</td>\n",
       "      <td>3999.280029</td>\n",
       "      <td>5297.100098</td>\n",
       "      <td>32.451343</td>\n",
       "    </tr>\n",
       "    <tr>\n",
       "      <th>1</th>\n",
       "      <td>Bill Keating</td>\n",
       "      <td>BA</td>\n",
       "      <td>Democrat</td>\n",
       "      <td>House</td>\n",
       "      <td>MA</td>\n",
       "      <td>2023-9-14</td>\n",
       "      <td>2024-2-7</td>\n",
       "      <td>209.139999</td>\n",
       "      <td>211.919998</td>\n",
       "      <td>1.329253</td>\n",
       "      <td>4487.779785</td>\n",
       "      <td>4995.060059</td>\n",
       "      <td>11.303591</td>\n",
       "    </tr>\n",
       "    <tr>\n",
       "      <th>2</th>\n",
       "      <td>Bill Keating</td>\n",
       "      <td>BAC</td>\n",
       "      <td>Democrat</td>\n",
       "      <td>House</td>\n",
       "      <td>MA</td>\n",
       "      <td>2024-1-17</td>\n",
       "      <td>2024-9-10</td>\n",
       "      <td>30.738856</td>\n",
       "      <td>38.817738</td>\n",
       "      <td>26.282310</td>\n",
       "      <td>4739.129883</td>\n",
       "      <td>5495.520020</td>\n",
       "      <td>15.960528</td>\n",
       "    </tr>\n",
       "    <tr>\n",
       "      <th>3</th>\n",
       "      <td>Bill Keating</td>\n",
       "      <td>GM</td>\n",
       "      <td>Democrat</td>\n",
       "      <td>House</td>\n",
       "      <td>MA</td>\n",
       "      <td>2023-6-26</td>\n",
       "      <td>2024-9-10</td>\n",
       "      <td>35.371884</td>\n",
       "      <td>44.605568</td>\n",
       "      <td>26.104586</td>\n",
       "      <td>4344.839844</td>\n",
       "      <td>5495.520020</td>\n",
       "      <td>26.483834</td>\n",
       "    </tr>\n",
       "    <tr>\n",
       "      <th>4</th>\n",
       "      <td>Bill Keating</td>\n",
       "      <td>GOOGL</td>\n",
       "      <td>Democrat</td>\n",
       "      <td>House</td>\n",
       "      <td>MA</td>\n",
       "      <td>2023-2-12</td>\n",
       "      <td>2024-5-16</td>\n",
       "      <td>94.995828</td>\n",
       "      <td>173.351212</td>\n",
       "      <td>82.482973</td>\n",
       "      <td>4068.919922</td>\n",
       "      <td>5297.100098</td>\n",
       "      <td>30.184427</td>\n",
       "    </tr>\n",
       "    <tr>\n",
       "      <th>...</th>\n",
       "      <td>...</td>\n",
       "      <td>...</td>\n",
       "      <td>...</td>\n",
       "      <td>...</td>\n",
       "      <td>...</td>\n",
       "      <td>...</td>\n",
       "      <td>...</td>\n",
       "      <td>...</td>\n",
       "      <td>...</td>\n",
       "      <td>...</td>\n",
       "      <td>...</td>\n",
       "      <td>...</td>\n",
       "      <td>...</td>\n",
       "    </tr>\n",
       "    <tr>\n",
       "      <th>1351</th>\n",
       "      <td>Virginia Foxx</td>\n",
       "      <td>FLNG</td>\n",
       "      <td>Republican</td>\n",
       "      <td>House</td>\n",
       "      <td>NC</td>\n",
       "      <td>2023-1-3</td>\n",
       "      <td>2024-12-5</td>\n",
       "      <td>26.912435</td>\n",
       "      <td>22.639999</td>\n",
       "      <td>-15.875322</td>\n",
       "      <td>3853.290039</td>\n",
       "      <td>6075.109863</td>\n",
       "      <td>57.660332</td>\n",
       "    </tr>\n",
       "    <tr>\n",
       "      <th>1352</th>\n",
       "      <td>Virginia Foxx</td>\n",
       "      <td>MO</td>\n",
       "      <td>Republican</td>\n",
       "      <td>House</td>\n",
       "      <td>NC</td>\n",
       "      <td>2023-1-16</td>\n",
       "      <td>2024-1-9</td>\n",
       "      <td>37.561198</td>\n",
       "      <td>37.866795</td>\n",
       "      <td>0.813598</td>\n",
       "      <td>3960.600098</td>\n",
       "      <td>4756.500000</td>\n",
       "      <td>20.095437</td>\n",
       "    </tr>\n",
       "    <tr>\n",
       "      <th>1353</th>\n",
       "      <td>Virginia Foxx</td>\n",
       "      <td>PAA</td>\n",
       "      <td>Republican</td>\n",
       "      <td>House</td>\n",
       "      <td>NC</td>\n",
       "      <td>2023-3-23</td>\n",
       "      <td>2023-10-2</td>\n",
       "      <td>10.383142</td>\n",
       "      <td>13.596812</td>\n",
       "      <td>30.950851</td>\n",
       "      <td>3959.209961</td>\n",
       "      <td>4288.390137</td>\n",
       "      <td>8.314289</td>\n",
       "    </tr>\n",
       "    <tr>\n",
       "      <th>1354</th>\n",
       "      <td>Virginia Foxx</td>\n",
       "      <td>T</td>\n",
       "      <td>Republican</td>\n",
       "      <td>House</td>\n",
       "      <td>NC</td>\n",
       "      <td>2023-1-31</td>\n",
       "      <td>2024-12-5</td>\n",
       "      <td>17.820059</td>\n",
       "      <td>23.531321</td>\n",
       "      <td>32.049620</td>\n",
       "      <td>4020.850098</td>\n",
       "      <td>6075.109863</td>\n",
       "      <td>51.090185</td>\n",
       "    </tr>\n",
       "    <tr>\n",
       "      <th>1355</th>\n",
       "      <td>Virginia Foxx</td>\n",
       "      <td>TAK</td>\n",
       "      <td>Republican</td>\n",
       "      <td>House</td>\n",
       "      <td>NC</td>\n",
       "      <td>2023-2-15</td>\n",
       "      <td>2023-8-28</td>\n",
       "      <td>15.690000</td>\n",
       "      <td>15.280000</td>\n",
       "      <td>-2.613128</td>\n",
       "      <td>4119.500000</td>\n",
       "      <td>4433.310059</td>\n",
       "      <td>7.617673</td>\n",
       "    </tr>\n",
       "  </tbody>\n",
       "</table>\n",
       "<p>1356 rows × 13 columns</p>\n",
       "</div>"
      ],
      "text/plain": [
       "               Name Ticker       Party Chamber State   Buy Date  Sell Date  \\\n",
       "0      Bill Keating   ABNB    Democrat   House    MA  2023-1-17  2024-5-16   \n",
       "1      Bill Keating     BA    Democrat   House    MA  2023-9-14   2024-2-7   \n",
       "2      Bill Keating    BAC    Democrat   House    MA  2024-1-17  2024-9-10   \n",
       "3      Bill Keating     GM    Democrat   House    MA  2023-6-26  2024-9-10   \n",
       "4      Bill Keating  GOOGL    Democrat   House    MA  2023-2-12  2024-5-16   \n",
       "...             ...    ...         ...     ...   ...        ...        ...   \n",
       "1351  Virginia Foxx   FLNG  Republican   House    NC   2023-1-3  2024-12-5   \n",
       "1352  Virginia Foxx     MO  Republican   House    NC  2023-1-16   2024-1-9   \n",
       "1353  Virginia Foxx    PAA  Republican   House    NC  2023-3-23  2023-10-2   \n",
       "1354  Virginia Foxx      T  Republican   House    NC  2023-1-31  2024-12-5   \n",
       "1355  Virginia Foxx    TAK  Republican   House    NC  2023-2-15  2023-8-28   \n",
       "\n",
       "       Buy Price  Sell Price  Trade Return %  Market Buy Price  \\\n",
       "0      99.915001  147.190002       47.315219       3999.280029   \n",
       "1     209.139999  211.919998        1.329253       4487.779785   \n",
       "2      30.738856   38.817738       26.282310       4739.129883   \n",
       "3      35.371884   44.605568       26.104586       4344.839844   \n",
       "4      94.995828  173.351212       82.482973       4068.919922   \n",
       "...          ...         ...             ...               ...   \n",
       "1351   26.912435   22.639999      -15.875322       3853.290039   \n",
       "1352   37.561198   37.866795        0.813598       3960.600098   \n",
       "1353   10.383142   13.596812       30.950851       3959.209961   \n",
       "1354   17.820059   23.531321       32.049620       4020.850098   \n",
       "1355   15.690000   15.280000       -2.613128       4119.500000   \n",
       "\n",
       "      Market Sell Price  Market Return %  \n",
       "0           5297.100098        32.451343  \n",
       "1           4995.060059        11.303591  \n",
       "2           5495.520020        15.960528  \n",
       "3           5495.520020        26.483834  \n",
       "4           5297.100098        30.184427  \n",
       "...                 ...              ...  \n",
       "1351        6075.109863        57.660332  \n",
       "1352        4756.500000        20.095437  \n",
       "1353        4288.390137         8.314289  \n",
       "1354        6075.109863        51.090185  \n",
       "1355        4433.310059         7.617673  \n",
       "\n",
       "[1356 rows x 13 columns]"
      ]
     },
     "execution_count": 10,
     "metadata": {},
     "output_type": "execute_result"
    }
   ],
   "source": [
    "df['Market Return %'] = (df['Market Sell Price'] - df[\"Market Buy Price\"]) / df[\"Market Buy Price\"] * 100\n",
    "\n",
    "df"
   ]
  },
  {
   "cell_type": "markdown",
   "metadata": {},
   "source": [
    "## Calculate Performance\n",
    "\n",
    "Overperformance % = Trade Return % - S&P Return %"
   ]
  },
  {
   "cell_type": "code",
   "execution_count": 11,
   "metadata": {},
   "outputs": [
    {
     "data": {
      "text/html": [
       "<div>\n",
       "<style scoped>\n",
       "    .dataframe tbody tr th:only-of-type {\n",
       "        vertical-align: middle;\n",
       "    }\n",
       "\n",
       "    .dataframe tbody tr th {\n",
       "        vertical-align: top;\n",
       "    }\n",
       "\n",
       "    .dataframe thead th {\n",
       "        text-align: right;\n",
       "    }\n",
       "</style>\n",
       "<table border=\"1\" class=\"dataframe\">\n",
       "  <thead>\n",
       "    <tr style=\"text-align: right;\">\n",
       "      <th></th>\n",
       "      <th>Name</th>\n",
       "      <th>Ticker</th>\n",
       "      <th>Party</th>\n",
       "      <th>Chamber</th>\n",
       "      <th>State</th>\n",
       "      <th>Buy Date</th>\n",
       "      <th>Sell Date</th>\n",
       "      <th>Buy Price</th>\n",
       "      <th>Sell Price</th>\n",
       "      <th>Trade Return %</th>\n",
       "      <th>Market Buy Price</th>\n",
       "      <th>Market Sell Price</th>\n",
       "      <th>Market Return %</th>\n",
       "      <th>Overperformance %</th>\n",
       "    </tr>\n",
       "  </thead>\n",
       "  <tbody>\n",
       "    <tr>\n",
       "      <th>0</th>\n",
       "      <td>Bill Keating</td>\n",
       "      <td>ABNB</td>\n",
       "      <td>Democrat</td>\n",
       "      <td>House</td>\n",
       "      <td>MA</td>\n",
       "      <td>2023-1-17</td>\n",
       "      <td>2024-5-16</td>\n",
       "      <td>99.915001</td>\n",
       "      <td>147.190002</td>\n",
       "      <td>47.315219</td>\n",
       "      <td>3999.280029</td>\n",
       "      <td>5297.100098</td>\n",
       "      <td>32.451343</td>\n",
       "      <td>14.863876</td>\n",
       "    </tr>\n",
       "    <tr>\n",
       "      <th>1</th>\n",
       "      <td>Bill Keating</td>\n",
       "      <td>BA</td>\n",
       "      <td>Democrat</td>\n",
       "      <td>House</td>\n",
       "      <td>MA</td>\n",
       "      <td>2023-9-14</td>\n",
       "      <td>2024-2-7</td>\n",
       "      <td>209.139999</td>\n",
       "      <td>211.919998</td>\n",
       "      <td>1.329253</td>\n",
       "      <td>4487.779785</td>\n",
       "      <td>4995.060059</td>\n",
       "      <td>11.303591</td>\n",
       "      <td>-9.974338</td>\n",
       "    </tr>\n",
       "    <tr>\n",
       "      <th>2</th>\n",
       "      <td>Bill Keating</td>\n",
       "      <td>BAC</td>\n",
       "      <td>Democrat</td>\n",
       "      <td>House</td>\n",
       "      <td>MA</td>\n",
       "      <td>2024-1-17</td>\n",
       "      <td>2024-9-10</td>\n",
       "      <td>30.738856</td>\n",
       "      <td>38.817738</td>\n",
       "      <td>26.282310</td>\n",
       "      <td>4739.129883</td>\n",
       "      <td>5495.520020</td>\n",
       "      <td>15.960528</td>\n",
       "      <td>10.321783</td>\n",
       "    </tr>\n",
       "    <tr>\n",
       "      <th>3</th>\n",
       "      <td>Bill Keating</td>\n",
       "      <td>GM</td>\n",
       "      <td>Democrat</td>\n",
       "      <td>House</td>\n",
       "      <td>MA</td>\n",
       "      <td>2023-6-26</td>\n",
       "      <td>2024-9-10</td>\n",
       "      <td>35.371884</td>\n",
       "      <td>44.605568</td>\n",
       "      <td>26.104586</td>\n",
       "      <td>4344.839844</td>\n",
       "      <td>5495.520020</td>\n",
       "      <td>26.483834</td>\n",
       "      <td>-0.379248</td>\n",
       "    </tr>\n",
       "    <tr>\n",
       "      <th>4</th>\n",
       "      <td>Bill Keating</td>\n",
       "      <td>GOOGL</td>\n",
       "      <td>Democrat</td>\n",
       "      <td>House</td>\n",
       "      <td>MA</td>\n",
       "      <td>2023-2-12</td>\n",
       "      <td>2024-5-16</td>\n",
       "      <td>94.995828</td>\n",
       "      <td>173.351212</td>\n",
       "      <td>82.482973</td>\n",
       "      <td>4068.919922</td>\n",
       "      <td>5297.100098</td>\n",
       "      <td>30.184427</td>\n",
       "      <td>52.298546</td>\n",
       "    </tr>\n",
       "    <tr>\n",
       "      <th>...</th>\n",
       "      <td>...</td>\n",
       "      <td>...</td>\n",
       "      <td>...</td>\n",
       "      <td>...</td>\n",
       "      <td>...</td>\n",
       "      <td>...</td>\n",
       "      <td>...</td>\n",
       "      <td>...</td>\n",
       "      <td>...</td>\n",
       "      <td>...</td>\n",
       "      <td>...</td>\n",
       "      <td>...</td>\n",
       "      <td>...</td>\n",
       "      <td>...</td>\n",
       "    </tr>\n",
       "    <tr>\n",
       "      <th>1351</th>\n",
       "      <td>Virginia Foxx</td>\n",
       "      <td>FLNG</td>\n",
       "      <td>Republican</td>\n",
       "      <td>House</td>\n",
       "      <td>NC</td>\n",
       "      <td>2023-1-3</td>\n",
       "      <td>2024-12-5</td>\n",
       "      <td>26.912435</td>\n",
       "      <td>22.639999</td>\n",
       "      <td>-15.875322</td>\n",
       "      <td>3853.290039</td>\n",
       "      <td>6075.109863</td>\n",
       "      <td>57.660332</td>\n",
       "      <td>-73.535654</td>\n",
       "    </tr>\n",
       "    <tr>\n",
       "      <th>1352</th>\n",
       "      <td>Virginia Foxx</td>\n",
       "      <td>MO</td>\n",
       "      <td>Republican</td>\n",
       "      <td>House</td>\n",
       "      <td>NC</td>\n",
       "      <td>2023-1-16</td>\n",
       "      <td>2024-1-9</td>\n",
       "      <td>37.561198</td>\n",
       "      <td>37.866795</td>\n",
       "      <td>0.813598</td>\n",
       "      <td>3960.600098</td>\n",
       "      <td>4756.500000</td>\n",
       "      <td>20.095437</td>\n",
       "      <td>-19.281839</td>\n",
       "    </tr>\n",
       "    <tr>\n",
       "      <th>1353</th>\n",
       "      <td>Virginia Foxx</td>\n",
       "      <td>PAA</td>\n",
       "      <td>Republican</td>\n",
       "      <td>House</td>\n",
       "      <td>NC</td>\n",
       "      <td>2023-3-23</td>\n",
       "      <td>2023-10-2</td>\n",
       "      <td>10.383142</td>\n",
       "      <td>13.596812</td>\n",
       "      <td>30.950851</td>\n",
       "      <td>3959.209961</td>\n",
       "      <td>4288.390137</td>\n",
       "      <td>8.314289</td>\n",
       "      <td>22.636562</td>\n",
       "    </tr>\n",
       "    <tr>\n",
       "      <th>1354</th>\n",
       "      <td>Virginia Foxx</td>\n",
       "      <td>T</td>\n",
       "      <td>Republican</td>\n",
       "      <td>House</td>\n",
       "      <td>NC</td>\n",
       "      <td>2023-1-31</td>\n",
       "      <td>2024-12-5</td>\n",
       "      <td>17.820059</td>\n",
       "      <td>23.531321</td>\n",
       "      <td>32.049620</td>\n",
       "      <td>4020.850098</td>\n",
       "      <td>6075.109863</td>\n",
       "      <td>51.090185</td>\n",
       "      <td>-19.040565</td>\n",
       "    </tr>\n",
       "    <tr>\n",
       "      <th>1355</th>\n",
       "      <td>Virginia Foxx</td>\n",
       "      <td>TAK</td>\n",
       "      <td>Republican</td>\n",
       "      <td>House</td>\n",
       "      <td>NC</td>\n",
       "      <td>2023-2-15</td>\n",
       "      <td>2023-8-28</td>\n",
       "      <td>15.690000</td>\n",
       "      <td>15.280000</td>\n",
       "      <td>-2.613128</td>\n",
       "      <td>4119.500000</td>\n",
       "      <td>4433.310059</td>\n",
       "      <td>7.617673</td>\n",
       "      <td>-10.230802</td>\n",
       "    </tr>\n",
       "  </tbody>\n",
       "</table>\n",
       "<p>1356 rows × 14 columns</p>\n",
       "</div>"
      ],
      "text/plain": [
       "               Name Ticker       Party Chamber State   Buy Date  Sell Date  \\\n",
       "0      Bill Keating   ABNB    Democrat   House    MA  2023-1-17  2024-5-16   \n",
       "1      Bill Keating     BA    Democrat   House    MA  2023-9-14   2024-2-7   \n",
       "2      Bill Keating    BAC    Democrat   House    MA  2024-1-17  2024-9-10   \n",
       "3      Bill Keating     GM    Democrat   House    MA  2023-6-26  2024-9-10   \n",
       "4      Bill Keating  GOOGL    Democrat   House    MA  2023-2-12  2024-5-16   \n",
       "...             ...    ...         ...     ...   ...        ...        ...   \n",
       "1351  Virginia Foxx   FLNG  Republican   House    NC   2023-1-3  2024-12-5   \n",
       "1352  Virginia Foxx     MO  Republican   House    NC  2023-1-16   2024-1-9   \n",
       "1353  Virginia Foxx    PAA  Republican   House    NC  2023-3-23  2023-10-2   \n",
       "1354  Virginia Foxx      T  Republican   House    NC  2023-1-31  2024-12-5   \n",
       "1355  Virginia Foxx    TAK  Republican   House    NC  2023-2-15  2023-8-28   \n",
       "\n",
       "       Buy Price  Sell Price  Trade Return %  Market Buy Price  \\\n",
       "0      99.915001  147.190002       47.315219       3999.280029   \n",
       "1     209.139999  211.919998        1.329253       4487.779785   \n",
       "2      30.738856   38.817738       26.282310       4739.129883   \n",
       "3      35.371884   44.605568       26.104586       4344.839844   \n",
       "4      94.995828  173.351212       82.482973       4068.919922   \n",
       "...          ...         ...             ...               ...   \n",
       "1351   26.912435   22.639999      -15.875322       3853.290039   \n",
       "1352   37.561198   37.866795        0.813598       3960.600098   \n",
       "1353   10.383142   13.596812       30.950851       3959.209961   \n",
       "1354   17.820059   23.531321       32.049620       4020.850098   \n",
       "1355   15.690000   15.280000       -2.613128       4119.500000   \n",
       "\n",
       "      Market Sell Price  Market Return %  Overperformance %  \n",
       "0           5297.100098        32.451343          14.863876  \n",
       "1           4995.060059        11.303591          -9.974338  \n",
       "2           5495.520020        15.960528          10.321783  \n",
       "3           5495.520020        26.483834          -0.379248  \n",
       "4           5297.100098        30.184427          52.298546  \n",
       "...                 ...              ...                ...  \n",
       "1351        6075.109863        57.660332         -73.535654  \n",
       "1352        4756.500000        20.095437         -19.281839  \n",
       "1353        4288.390137         8.314289          22.636562  \n",
       "1354        6075.109863        51.090185         -19.040565  \n",
       "1355        4433.310059         7.617673         -10.230802  \n",
       "\n",
       "[1356 rows x 14 columns]"
      ]
     },
     "execution_count": 11,
     "metadata": {},
     "output_type": "execute_result"
    }
   ],
   "source": [
    "df[\"Overperformance %\"] = df[\"Trade Return %\"] - df[\"Market Return %\"]\n",
    "\n",
    "df"
   ]
  },
  {
   "cell_type": "markdown",
   "metadata": {},
   "source": [
    "## Export Final Dataset"
   ]
  },
  {
   "cell_type": "code",
   "execution_count": 12,
   "metadata": {},
   "outputs": [],
   "source": [
    "df.to_csv(data_path+\"04 YFinance\\\\\"+\"trade_comparison_yfinance.csv\", index=False)"
   ]
  }
 ],
 "metadata": {
  "kernelspec": {
   "display_name": "Python 3",
   "language": "python",
   "name": "python3"
  },
  "language_info": {
   "codemirror_mode": {
    "name": "ipython",
    "version": 3
   },
   "file_extension": ".py",
   "mimetype": "text/x-python",
   "name": "python",
   "nbconvert_exporter": "python",
   "pygments_lexer": "ipython3",
   "version": "3.11.9"
  }
 },
 "nbformat": 4,
 "nbformat_minor": 2
}
